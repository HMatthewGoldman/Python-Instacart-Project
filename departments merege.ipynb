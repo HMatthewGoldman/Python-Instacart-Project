{
 "cells": [
  {
   "cell_type": "markdown",
   "id": "d1607403",
   "metadata": {},
   "source": [
    "### 01 Import Libraries"
   ]
  },
  {
   "cell_type": "code",
   "execution_count": 1,
   "id": "fae1df68",
   "metadata": {},
   "outputs": [],
   "source": [
    "# import Libraries\n",
    "import pandas as pd\n",
    "import pandas_profiling\n",
    "import numpy as np\n",
    "import os\n",
    "import matplotlib.pyplot as plt\n",
    "import seaborn as sns\n",
    "import scipy\n",
    "import chardet\n",
    "import fuzzywuzzy"
   ]
  },
  {
   "cell_type": "markdown",
   "id": "7e9be052",
   "metadata": {},
   "source": [
    "### 02 Import Data"
   ]
  },
  {
   "cell_type": "code",
   "execution_count": 3,
   "id": "266d885e",
   "metadata": {},
   "outputs": [],
   "source": [
    "df_opcm=pd.read_pickle(r\"C:\\Users\\drmat\\OneDrive\\Documents\\Instacart Basket Analysis\\02 Data\\Prepared Data\\orders_products_customers_merged4-9.pkl\")"
   ]
  },
  {
   "cell_type": "code",
   "execution_count": 4,
   "id": "597e80b1",
   "metadata": {},
   "outputs": [
    {
     "name": "stdout",
     "output_type": "stream",
     "text": [
      "<class 'pandas.core.frame.DataFrame'>\n",
      "Int64Index: 32641279 entries, 0 to 32641278\n",
      "Data columns (total 31 columns):\n",
      " #   Column                  Dtype  \n",
      "---  ------                  -----  \n",
      " 0   order_id                float64\n",
      " 1   user_id                 float64\n",
      " 2   order_number            float64\n",
      " 3   order_day_of_week       float64\n",
      " 4   order_hour_of_day       float64\n",
      " 5   days_since_prior_order  float64\n",
      " 6   product_id              float64\n",
      " 7   add_to_cart_order       float64\n",
      " 8   reordered               float64\n",
      " 9   product_name            object \n",
      " 10  aisle_id                float64\n",
      " 11  department_id           float64\n",
      " 12  prices                  float64\n",
      " 13  price_range_loc         object \n",
      " 14  busiest days            object \n",
      " 15  busiest_period_of_day   object \n",
      " 16  max_order               float64\n",
      " 17  loyalty_flag            object \n",
      " 18  average_price           float64\n",
      " 19  spending_flag           object \n",
      " 20  median_days             float64\n",
      " 21  order_frequency_flag    object \n",
      " 22  First Name              object \n",
      " 23  Surnam                  object \n",
      " 24  Gender                  object \n",
      " 25  STATE                   object \n",
      " 26  Age                     float64\n",
      " 27  date_joined             object \n",
      " 28  n_dependants            float64\n",
      " 29  fam_status              object \n",
      " 30  income                  float64\n",
      "dtypes: float64(18), object(13)\n",
      "memory usage: 7.8+ GB\n"
     ]
    }
   ],
   "source": [
    "df_opcm.info()"
   ]
  },
  {
   "cell_type": "code",
   "execution_count": 8,
   "id": "90541d12",
   "metadata": {},
   "outputs": [],
   "source": [
    "df_dep=pd.read_csv(r\"C:\\Users\\drmat\\OneDrive\\Documents\\Instacart Basket Analysis\\02 Data\\Prepared Data\\departments_wrangled.csv\", index_col=False)"
   ]
  },
  {
   "cell_type": "code",
   "execution_count": 11,
   "id": "49877a26",
   "metadata": {},
   "outputs": [
    {
     "name": "stdout",
     "output_type": "stream",
     "text": [
      "<class 'pandas.core.frame.DataFrame'>\n",
      "RangeIndex: 21 entries, 0 to 20\n",
      "Data columns (total 2 columns):\n",
      " #   Column      Non-Null Count  Dtype \n",
      "---  ------      --------------  ----- \n",
      " 0   Unnamed: 0  21 non-null     int64 \n",
      " 1   department  21 non-null     object\n",
      "dtypes: int64(1), object(1)\n",
      "memory usage: 464.0+ bytes\n"
     ]
    }
   ],
   "source": [
    "df_dep.info()"
   ]
  },
  {
   "cell_type": "code",
   "execution_count": 12,
   "id": "5f4605b6",
   "metadata": {},
   "outputs": [],
   "source": [
    "df_dep.rename(columns={df_dep.columns[0]:'department_id'},inplace=True)"
   ]
  },
  {
   "cell_type": "code",
   "execution_count": 13,
   "id": "b3392a9a",
   "metadata": {},
   "outputs": [
    {
     "name": "stdout",
     "output_type": "stream",
     "text": [
      "<class 'pandas.core.frame.DataFrame'>\n",
      "RangeIndex: 21 entries, 0 to 20\n",
      "Data columns (total 2 columns):\n",
      " #   Column         Non-Null Count  Dtype \n",
      "---  ------         --------------  ----- \n",
      " 0   department_id  21 non-null     int64 \n",
      " 1   department     21 non-null     object\n",
      "dtypes: int64(1), object(1)\n",
      "memory usage: 464.0+ bytes\n"
     ]
    }
   ],
   "source": [
    "df_dep.info()"
   ]
  },
  {
   "cell_type": "code",
   "execution_count": 14,
   "id": "029e5cff",
   "metadata": {},
   "outputs": [],
   "source": [
    "df = df_opcm.merge(df_dep, on=['department_id'], how='outer')"
   ]
  },
  {
   "cell_type": "code",
   "execution_count": 15,
   "id": "e99b30d4",
   "metadata": {},
   "outputs": [
    {
     "name": "stdout",
     "output_type": "stream",
     "text": [
      "<class 'pandas.core.frame.DataFrame'>\n",
      "Int64Index: 32641279 entries, 0 to 32641278\n",
      "Data columns (total 32 columns):\n",
      " #   Column                  Dtype  \n",
      "---  ------                  -----  \n",
      " 0   order_id                float64\n",
      " 1   user_id                 float64\n",
      " 2   order_number            float64\n",
      " 3   order_day_of_week       float64\n",
      " 4   order_hour_of_day       float64\n",
      " 5   days_since_prior_order  float64\n",
      " 6   product_id              float64\n",
      " 7   add_to_cart_order       float64\n",
      " 8   reordered               float64\n",
      " 9   product_name            object \n",
      " 10  aisle_id                float64\n",
      " 11  department_id           float64\n",
      " 12  prices                  float64\n",
      " 13  price_range_loc         object \n",
      " 14  busiest days            object \n",
      " 15  busiest_period_of_day   object \n",
      " 16  max_order               float64\n",
      " 17  loyalty_flag            object \n",
      " 18  average_price           float64\n",
      " 19  spending_flag           object \n",
      " 20  median_days             float64\n",
      " 21  order_frequency_flag    object \n",
      " 22  First Name              object \n",
      " 23  Surnam                  object \n",
      " 24  Gender                  object \n",
      " 25  STATE                   object \n",
      " 26  Age                     float64\n",
      " 27  date_joined             object \n",
      " 28  n_dependants            float64\n",
      " 29  fam_status              object \n",
      " 30  income                  float64\n",
      " 31  department              object \n",
      "dtypes: float64(18), object(14)\n",
      "memory usage: 8.0+ GB\n"
     ]
    }
   ],
   "source": [
    "df.info()"
   ]
  },
  {
   "cell_type": "code",
   "execution_count": 16,
   "id": "e7724194",
   "metadata": {},
   "outputs": [],
   "source": [
    "df.to_pickle(r\"C:\\Users\\drmat\\OneDrive\\Documents\\Instacart Basket Analysis\\02 Data\\Prepared Data\\final_merged4-10.pkl\")"
   ]
  },
  {
   "cell_type": "code",
   "execution_count": 2,
   "id": "1767c23f",
   "metadata": {},
   "outputs": [],
   "source": [
    "df=pd.read_pickle(r\"C:\\Users\\drmat\\OneDrive\\Documents\\Instacart Basket Analysis\\02 Data\\Prepared Data\\final_merged4-10.pkl\")"
   ]
  },
  {
   "cell_type": "code",
   "execution_count": 6,
   "id": "9b23eea8",
   "metadata": {},
   "outputs": [
    {
     "data": {
      "text/plain": [
       "Text(0.5, 1.0, 'Frequency of Product Order')"
      ]
     },
     "execution_count": 6,
     "metadata": {},
     "output_type": "execute_result"
    },
    {
     "data": {
      "image/png": "[encoded data removed]",
      "text/plain": [
       "<Figure size 576x396 with 1 Axes>"
      ]
     },
     "metadata": {},
     "output_type": "display_data"
    }
   ],
   "source": [
    "bar_dep = df['department'].value_counts().plot.bar()\n",
    "plt.xlabel('Departments')\n",
    "plt.ylabel('Number of Orders')\n",
    "plt.title('Frequency of Product Order')"
   ]
  },
  {
   "cell_type": "code",
   "execution_count": 7,
   "id": "79cb20ea",
   "metadata": {},
   "outputs": [],
   "source": [
    "bar_dep.figure.savefig(r\"C:\\Users\\drmat\\OneDrive\\Documents\\Instacart Basket Analysis\\04 Analysis\\Visualizations\\bar_prod_ord.png\")"
   ]
  },
  {
   "cell_type": "code",
   "execution_count": null,
   "id": "c2c6fb6d",
   "metadata": {},
   "outputs": [],
   "source": []
  }
 ],
 "metadata": {
  "kernelspec": {
   "display_name": "Python 3 (ipykernel)",
   "language": "python",
   "name": "python3"
  },
  "language_info": {
   "codemirror_mode": {
    "name": "ipython",
    "version": 3
   },
   "file_extension": ".py",
   "mimetype": "text/x-python",
   "name": "python",
   "nbconvert_exporter": "python",
   "pygments_lexer": "ipython3",
   "version": "3.9.12"
  }
 },
 "nbformat": 4,
 "nbformat_minor": 5
}
