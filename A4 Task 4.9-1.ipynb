{
 "cells": [
  {
   "cell_type": "markdown",
   "id": "04f58d94",
   "metadata": {},
   "source": [
    "### 01 Import Libraries"
   ]
  },
  {
   "cell_type": "code",
   "execution_count": 1,
   "id": "54bdc58e",
   "metadata": {},
   "outputs": [],
   "source": [
    "import pandas as pd\n",
    "import numpy as np\n",
    "import os\n",
    "import matplotlib.pyplot as plt\n",
    "import seaborn as sns\n",
    "import scipy"
   ]
  },
  {
   "cell_type": "markdown",
   "id": "7940dd2f",
   "metadata": {},
   "source": [
    "### 02 Import Data"
   ]
  },
  {
   "cell_type": "code",
   "execution_count": 2,
   "id": "c15f5369",
   "metadata": {},
   "outputs": [],
   "source": [
    "# import customer data set\n",
    "df_cust=pd.read_csv(r\"F:\\CareerFoundry\\Instacart Basket Analysis\\02 Data\\Original Data\\customers.csv\", index_col=False)"
   ]
  },
  {
   "cell_type": "markdown",
   "id": "9bf9227c",
   "metadata": {},
   "source": [
    "### 03 Check Data"
   ]
  },
  {
   "cell_type": "code",
   "execution_count": 3,
   "id": "128c6e25",
   "metadata": {},
   "outputs": [
    {
     "name": "stdout",
     "output_type": "stream",
     "text": [
      "<class 'pandas.core.frame.DataFrame'>\n",
      "RangeIndex: 206209 entries, 0 to 206208\n",
      "Data columns (total 10 columns):\n",
      " #   Column        Non-Null Count   Dtype \n",
      "---  ------        --------------   ----- \n",
      " 0   user_id       206209 non-null  int64 \n",
      " 1   First Name    194950 non-null  object\n",
      " 2   Surnam        206209 non-null  object\n",
      " 3   Gender        206209 non-null  object\n",
      " 4   STATE         206209 non-null  object\n",
      " 5   Age           206209 non-null  int64 \n",
      " 6   date_joined   206209 non-null  object\n",
      " 7   n_dependants  206209 non-null  int64 \n",
      " 8   fam_status    206209 non-null  object\n",
      " 9   income        206209 non-null  int64 \n",
      "dtypes: int64(4), object(6)\n",
      "memory usage: 15.7+ MB\n"
     ]
    }
   ],
   "source": [
    "df_cust.info()"
   ]
  },
  {
   "cell_type": "code",
   "execution_count": 4,
   "id": "198921fa",
   "metadata": {},
   "outputs": [
    {
     "data": {
      "text/html": [
       "<div>\n",
       "<style scoped>\n",
       "    .dataframe tbody tr th:only-of-type {\n",
       "        vertical-align: middle;\n",
       "    }\n",
       "\n",
       "    .dataframe tbody tr th {\n",
       "        vertical-align: top;\n",
       "    }\n",
       "\n",
       "    .dataframe thead th {\n",
       "        text-align: right;\n",
       "    }\n",
       "</style>\n",
       "<table border=\"1\" class=\"dataframe\">\n",
       "  <thead>\n",
       "    <tr style=\"text-align: right;\">\n",
       "      <th></th>\n",
       "      <th>user_id</th>\n",
       "      <th>Age</th>\n",
       "      <th>n_dependants</th>\n",
       "      <th>income</th>\n",
       "    </tr>\n",
       "  </thead>\n",
       "  <tbody>\n",
       "    <tr>\n",
       "      <th>count</th>\n",
       "      <td>206209.00</td>\n",
       "      <td>206209.00</td>\n",
       "      <td>206209.00</td>\n",
       "      <td>206209.00</td>\n",
       "    </tr>\n",
       "    <tr>\n",
       "      <th>mean</th>\n",
       "      <td>103105.00</td>\n",
       "      <td>49.50</td>\n",
       "      <td>1.50</td>\n",
       "      <td>94632.85</td>\n",
       "    </tr>\n",
       "    <tr>\n",
       "      <th>std</th>\n",
       "      <td>59527.56</td>\n",
       "      <td>18.48</td>\n",
       "      <td>1.12</td>\n",
       "      <td>42473.79</td>\n",
       "    </tr>\n",
       "    <tr>\n",
       "      <th>min</th>\n",
       "      <td>1.00</td>\n",
       "      <td>18.00</td>\n",
       "      <td>0.00</td>\n",
       "      <td>25903.00</td>\n",
       "    </tr>\n",
       "    <tr>\n",
       "      <th>25%</th>\n",
       "      <td>51553.00</td>\n",
       "      <td>33.00</td>\n",
       "      <td>0.00</td>\n",
       "      <td>59874.00</td>\n",
       "    </tr>\n",
       "    <tr>\n",
       "      <th>50%</th>\n",
       "      <td>103105.00</td>\n",
       "      <td>49.00</td>\n",
       "      <td>1.00</td>\n",
       "      <td>93547.00</td>\n",
       "    </tr>\n",
       "    <tr>\n",
       "      <th>75%</th>\n",
       "      <td>154657.00</td>\n",
       "      <td>66.00</td>\n",
       "      <td>3.00</td>\n",
       "      <td>124244.00</td>\n",
       "    </tr>\n",
       "    <tr>\n",
       "      <th>max</th>\n",
       "      <td>206209.00</td>\n",
       "      <td>81.00</td>\n",
       "      <td>3.00</td>\n",
       "      <td>593901.00</td>\n",
       "    </tr>\n",
       "  </tbody>\n",
       "</table>\n",
       "</div>"
      ],
      "text/plain": [
       "         user_id        Age  n_dependants     income\n",
       "count  206209.00  206209.00     206209.00  206209.00\n",
       "mean   103105.00      49.50          1.50   94632.85\n",
       "std     59527.56      18.48          1.12   42473.79\n",
       "min         1.00      18.00          0.00   25903.00\n",
       "25%     51553.00      33.00          0.00   59874.00\n",
       "50%    103105.00      49.00          1.00   93547.00\n",
       "75%    154657.00      66.00          3.00  124244.00\n",
       "max    206209.00      81.00          3.00  593901.00"
      ]
     },
     "execution_count": 4,
     "metadata": {},
     "output_type": "execute_result"
    }
   ],
   "source": [
    "round(df_cust.describe(),2)"
   ]
  },
  {
   "cell_type": "code",
   "execution_count": 5,
   "id": "72c1df2b",
   "metadata": {},
   "outputs": [
    {
     "data": {
      "text/html": [
       "<div>\n",
       "<style scoped>\n",
       "    .dataframe tbody tr th:only-of-type {\n",
       "        vertical-align: middle;\n",
       "    }\n",
       "\n",
       "    .dataframe tbody tr th {\n",
       "        vertical-align: top;\n",
       "    }\n",
       "\n",
       "    .dataframe thead th {\n",
       "        text-align: right;\n",
       "    }\n",
       "</style>\n",
       "<table border=\"1\" class=\"dataframe\">\n",
       "  <thead>\n",
       "    <tr style=\"text-align: right;\">\n",
       "      <th></th>\n",
       "      <th>user_id</th>\n",
       "      <th>First Name</th>\n",
       "      <th>Surnam</th>\n",
       "      <th>Gender</th>\n",
       "      <th>STATE</th>\n",
       "      <th>Age</th>\n",
       "      <th>date_joined</th>\n",
       "      <th>n_dependants</th>\n",
       "      <th>fam_status</th>\n",
       "      <th>income</th>\n",
       "    </tr>\n",
       "  </thead>\n",
       "  <tbody>\n",
       "    <tr>\n",
       "      <th>0</th>\n",
       "      <td>26711</td>\n",
       "      <td>Deborah</td>\n",
       "      <td>Esquivel</td>\n",
       "      <td>Female</td>\n",
       "      <td>Missouri</td>\n",
       "      <td>48</td>\n",
       "      <td>1/1/2017</td>\n",
       "      <td>3</td>\n",
       "      <td>married</td>\n",
       "      <td>165665</td>\n",
       "    </tr>\n",
       "    <tr>\n",
       "      <th>1</th>\n",
       "      <td>33890</td>\n",
       "      <td>Patricia</td>\n",
       "      <td>Hart</td>\n",
       "      <td>Female</td>\n",
       "      <td>New Mexico</td>\n",
       "      <td>36</td>\n",
       "      <td>1/1/2017</td>\n",
       "      <td>0</td>\n",
       "      <td>single</td>\n",
       "      <td>59285</td>\n",
       "    </tr>\n",
       "    <tr>\n",
       "      <th>2</th>\n",
       "      <td>65803</td>\n",
       "      <td>Kenneth</td>\n",
       "      <td>Farley</td>\n",
       "      <td>Male</td>\n",
       "      <td>Idaho</td>\n",
       "      <td>35</td>\n",
       "      <td>1/1/2017</td>\n",
       "      <td>2</td>\n",
       "      <td>married</td>\n",
       "      <td>99568</td>\n",
       "    </tr>\n",
       "    <tr>\n",
       "      <th>3</th>\n",
       "      <td>125935</td>\n",
       "      <td>Michelle</td>\n",
       "      <td>Hicks</td>\n",
       "      <td>Female</td>\n",
       "      <td>Iowa</td>\n",
       "      <td>40</td>\n",
       "      <td>1/1/2017</td>\n",
       "      <td>0</td>\n",
       "      <td>single</td>\n",
       "      <td>42049</td>\n",
       "    </tr>\n",
       "    <tr>\n",
       "      <th>4</th>\n",
       "      <td>130797</td>\n",
       "      <td>Ann</td>\n",
       "      <td>Gilmore</td>\n",
       "      <td>Female</td>\n",
       "      <td>Maryland</td>\n",
       "      <td>26</td>\n",
       "      <td>1/1/2017</td>\n",
       "      <td>1</td>\n",
       "      <td>married</td>\n",
       "      <td>40374</td>\n",
       "    </tr>\n",
       "    <tr>\n",
       "      <th>...</th>\n",
       "      <td>...</td>\n",
       "      <td>...</td>\n",
       "      <td>...</td>\n",
       "      <td>...</td>\n",
       "      <td>...</td>\n",
       "      <td>...</td>\n",
       "      <td>...</td>\n",
       "      <td>...</td>\n",
       "      <td>...</td>\n",
       "      <td>...</td>\n",
       "    </tr>\n",
       "    <tr>\n",
       "      <th>206204</th>\n",
       "      <td>168073</td>\n",
       "      <td>Lisa</td>\n",
       "      <td>Case</td>\n",
       "      <td>Female</td>\n",
       "      <td>North Carolina</td>\n",
       "      <td>44</td>\n",
       "      <td>4/1/2020</td>\n",
       "      <td>1</td>\n",
       "      <td>married</td>\n",
       "      <td>148828</td>\n",
       "    </tr>\n",
       "    <tr>\n",
       "      <th>206205</th>\n",
       "      <td>49635</td>\n",
       "      <td>Jeremy</td>\n",
       "      <td>Robbins</td>\n",
       "      <td>Male</td>\n",
       "      <td>Hawaii</td>\n",
       "      <td>62</td>\n",
       "      <td>4/1/2020</td>\n",
       "      <td>3</td>\n",
       "      <td>married</td>\n",
       "      <td>168639</td>\n",
       "    </tr>\n",
       "    <tr>\n",
       "      <th>206206</th>\n",
       "      <td>135902</td>\n",
       "      <td>Doris</td>\n",
       "      <td>Richmond</td>\n",
       "      <td>Female</td>\n",
       "      <td>Missouri</td>\n",
       "      <td>66</td>\n",
       "      <td>4/1/2020</td>\n",
       "      <td>2</td>\n",
       "      <td>married</td>\n",
       "      <td>53374</td>\n",
       "    </tr>\n",
       "    <tr>\n",
       "      <th>206207</th>\n",
       "      <td>81095</td>\n",
       "      <td>Rose</td>\n",
       "      <td>Rollins</td>\n",
       "      <td>Female</td>\n",
       "      <td>California</td>\n",
       "      <td>27</td>\n",
       "      <td>4/1/2020</td>\n",
       "      <td>1</td>\n",
       "      <td>married</td>\n",
       "      <td>99799</td>\n",
       "    </tr>\n",
       "    <tr>\n",
       "      <th>206208</th>\n",
       "      <td>80148</td>\n",
       "      <td>Cynthia</td>\n",
       "      <td>Noble</td>\n",
       "      <td>Female</td>\n",
       "      <td>New York</td>\n",
       "      <td>55</td>\n",
       "      <td>4/1/2020</td>\n",
       "      <td>1</td>\n",
       "      <td>married</td>\n",
       "      <td>57095</td>\n",
       "    </tr>\n",
       "  </tbody>\n",
       "</table>\n",
       "<p>206209 rows × 10 columns</p>\n",
       "</div>"
      ],
      "text/plain": [
       "        user_id First Name    Surnam  Gender           STATE  Age date_joined  \\\n",
       "0         26711    Deborah  Esquivel  Female        Missouri   48    1/1/2017   \n",
       "1         33890   Patricia      Hart  Female      New Mexico   36    1/1/2017   \n",
       "2         65803    Kenneth    Farley    Male           Idaho   35    1/1/2017   \n",
       "3        125935   Michelle     Hicks  Female            Iowa   40    1/1/2017   \n",
       "4        130797        Ann   Gilmore  Female        Maryland   26    1/1/2017   \n",
       "...         ...        ...       ...     ...             ...  ...         ...   \n",
       "206204   168073       Lisa      Case  Female  North Carolina   44    4/1/2020   \n",
       "206205    49635     Jeremy   Robbins    Male          Hawaii   62    4/1/2020   \n",
       "206206   135902      Doris  Richmond  Female        Missouri   66    4/1/2020   \n",
       "206207    81095       Rose   Rollins  Female      California   27    4/1/2020   \n",
       "206208    80148    Cynthia     Noble  Female        New York   55    4/1/2020   \n",
       "\n",
       "        n_dependants fam_status  income  \n",
       "0                  3    married  165665  \n",
       "1                  0     single   59285  \n",
       "2                  2    married   99568  \n",
       "3                  0     single   42049  \n",
       "4                  1    married   40374  \n",
       "...              ...        ...     ...  \n",
       "206204             1    married  148828  \n",
       "206205             3    married  168639  \n",
       "206206             2    married   53374  \n",
       "206207             1    married   99799  \n",
       "206208             1    married   57095  \n",
       "\n",
       "[206209 rows x 10 columns]"
      ]
     },
     "execution_count": 5,
     "metadata": {},
     "output_type": "execute_result"
    }
   ],
   "source": [
    "df_cust"
   ]
  },
  {
   "cell_type": "markdown",
   "id": "6ab0bfd8",
   "metadata": {},
   "source": [
    "### 04 Clean Data"
   ]
  },
  {
   "cell_type": "code",
   "execution_count": 6,
   "id": "e31796df",
   "metadata": {},
   "outputs": [
    {
     "data": {
      "text/plain": [
       "user_id             0\n",
       "First Name      11259\n",
       "Surnam              0\n",
       "Gender              0\n",
       "STATE               0\n",
       "Age                 0\n",
       "date_joined         0\n",
       "n_dependants        0\n",
       "fam_status          0\n",
       "income              0\n",
       "dtype: int64"
      ]
     },
     "execution_count": 6,
     "metadata": {},
     "output_type": "execute_result"
    }
   ],
   "source": [
    "# check for missing data\n",
    "df_cust.isnull().sum()"
   ]
  },
  {
   "cell_type": "code",
   "execution_count": 7,
   "id": "ab13e04d",
   "metadata": {},
   "outputs": [
    {
     "name": "stdout",
     "output_type": "stream",
     "text": [
      "First Name\n"
     ]
    }
   ],
   "source": [
    "# check for mixed data\n",
    "for col in df_cust.columns.tolist():\n",
    "  weird = (df_cust[[col]].applymap(type) != df_cust[[col]].iloc[0].apply(type)).any(axis = 1)\n",
    "  if len (df_cust[weird]) > 0:\n",
    "    print (col)"
   ]
  },
  {
   "cell_type": "code",
   "execution_count": 8,
   "id": "d428538d",
   "metadata": {},
   "outputs": [],
   "source": [
    "# fixed mixed data\n",
    "df_cust['First Name']=df_cust['First Name'].astype('str')"
   ]
  },
  {
   "cell_type": "code",
   "execution_count": 9,
   "id": "4b20a805",
   "metadata": {},
   "outputs": [
    {
     "data": {
      "text/plain": [
       "0"
      ]
     },
     "execution_count": 9,
     "metadata": {},
     "output_type": "execute_result"
    }
   ],
   "source": [
    "# check for duplicate records\n",
    "df_cust.duplicated().sum()"
   ]
  },
  {
   "cell_type": "markdown",
   "id": "bcb8895c",
   "metadata": {},
   "source": [
    "### 05 Combine DataFrames"
   ]
  },
  {
   "cell_type": "code",
   "execution_count": 9,
   "id": "6ea959cf",
   "metadata": {},
   "outputs": [],
   "source": [
    "# import ords_prods_merge dataframe\n",
    "df_opm = pd.read_pickle(r\"C:\\Users\\drmat\\OneDrive\\Documents\\order_products__prior4.9_1.pkl\")"
   ]
  },
  {
   "cell_type": "code",
   "execution_count": 10,
   "id": "73827256",
   "metadata": {},
   "outputs": [
    {
     "name": "stdout",
     "output_type": "stream",
     "text": [
      "<class 'pandas.core.frame.DataFrame'>\n",
      "Int64Index: 32641279 entries, 0 to 32641278\n",
      "Data columns (total 22 columns):\n",
      " #   Column                  Dtype  \n",
      "---  ------                  -----  \n",
      " 0   order_id                float64\n",
      " 1   user_id                 float64\n",
      " 2   order_number            float64\n",
      " 3   order_day_of_week       float64\n",
      " 4   order_hour_of_day       float64\n",
      " 5   days_since_prior_order  float64\n",
      " 6   product_id              float64\n",
      " 7   add_to_cart_order       float64\n",
      " 8   reordered               float64\n",
      " 9   product_name            object \n",
      " 10  aisle_id                float64\n",
      " 11  department_id           float64\n",
      " 12  prices                  float64\n",
      " 13  price_range_loc         object \n",
      " 14  busiest days            object \n",
      " 15  busiest_period_of_day   object \n",
      " 16  max_order               float64\n",
      " 17  loyalty_flag            object \n",
      " 18  average_price           float64\n",
      " 19  spending_flag           object \n",
      " 20  median_days             float64\n",
      " 21  order_frequency_flag    object \n",
      "dtypes: float64(15), object(7)\n",
      "memory usage: 5.6+ GB\n"
     ]
    }
   ],
   "source": [
    "# check data\n",
    "df_opm.info()"
   ]
  },
  {
   "cell_type": "code",
   "execution_count": 11,
   "id": "4d0a7021",
   "metadata": {},
   "outputs": [],
   "source": [
    "# merge data into new dataframe df_opmc\n",
    "df_opmc=df_opm.merge(df_cust, on=['user_id'],how='outer')"
   ]
  },
  {
   "cell_type": "code",
   "execution_count": 12,
   "id": "e0faf305",
   "metadata": {},
   "outputs": [
    {
     "name": "stdout",
     "output_type": "stream",
     "text": [
      "<class 'pandas.core.frame.DataFrame'>\n",
      "Int64Index: 32641279 entries, 0 to 32641278\n",
      "Data columns (total 31 columns):\n",
      " #   Column                  Dtype  \n",
      "---  ------                  -----  \n",
      " 0   order_id                float64\n",
      " 1   user_id                 float64\n",
      " 2   order_number            float64\n",
      " 3   order_day_of_week       float64\n",
      " 4   order_hour_of_day       float64\n",
      " 5   days_since_prior_order  float64\n",
      " 6   product_id              float64\n",
      " 7   add_to_cart_order       float64\n",
      " 8   reordered               float64\n",
      " 9   product_name            object \n",
      " 10  aisle_id                float64\n",
      " 11  department_id           float64\n",
      " 12  prices                  float64\n",
      " 13  price_range_loc         object \n",
      " 14  busiest days            object \n",
      " 15  busiest_period_of_day   object \n",
      " 16  max_order               float64\n",
      " 17  loyalty_flag            object \n",
      " 18  average_price           float64\n",
      " 19  spending_flag           object \n",
      " 20  median_days             float64\n",
      " 21  order_frequency_flag    object \n",
      " 22  First Name              object \n",
      " 23  Surnam                  object \n",
      " 24  Gender                  object \n",
      " 25  STATE                   object \n",
      " 26  Age                     float64\n",
      " 27  date_joined             object \n",
      " 28  n_dependants            float64\n",
      " 29  fam_status              object \n",
      " 30  income                  float64\n",
      "dtypes: float64(18), object(13)\n",
      "memory usage: 7.8+ GB\n"
     ]
    }
   ],
   "source": [
    "# check data\n",
    "df_opmc.info()"
   ]
  },
  {
   "cell_type": "markdown",
   "id": "01fc1326",
   "metadata": {},
   "source": [
    "### 06 Export Data"
   ]
  },
  {
   "cell_type": "code",
   "execution_count": 13,
   "id": "7865acb9",
   "metadata": {},
   "outputs": [],
   "source": [
    "# export to pickle\n",
    "df_opmc.to_pickle(r\"C:\\Users\\drmat\\OneDrive\\Documents\\Instacart Basket Analysis\\02 Data\\Prepared Data\\orders_products_customers_merged4-9.pkl\")"
   ]
  },
  {
   "cell_type": "code",
   "execution_count": null,
   "id": "9dd88dd6",
   "metadata": {},
   "outputs": [],
   "source": []
  }
 ],
 "metadata": {
  "kernelspec": {
   "display_name": "Python 3 (ipykernel)",
   "language": "python",
   "name": "python3"
  },
  "language_info": {
   "codemirror_mode": {
    "name": "ipython",
    "version": 3
   },
   "file_extension": ".py",
   "mimetype": "text/x-python",
   "name": "python",
   "nbconvert_exporter": "python",
   "pygments_lexer": "ipython3",
   "version": "3.9.12"
  }
 },
 "nbformat": 4,
 "nbformat_minor": 5
}
