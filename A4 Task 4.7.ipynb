{
 "cells": [
  {
   "cell_type": "markdown",
   "id": "6a54d940",
   "metadata": {},
   "source": [
    "### 01 Import Libraries"
   ]
  },
  {
   "cell_type": "code",
   "execution_count": 1,
   "id": "50b2571b",
   "metadata": {},
   "outputs": [],
   "source": [
    "# import libraries\n",
    "import pandas as pd\n",
    "import numpy as np\n",
    "import os"
   ]
  },
  {
   "cell_type": "markdown",
   "id": "5d6c1f6e",
   "metadata": {},
   "source": [
    "### 02 Import Data"
   ]
  },
  {
   "cell_type": "code",
   "execution_count": 3,
   "id": "647f07a3",
   "metadata": {},
   "outputs": [],
   "source": [
    "# import merged data\n",
    "ords_prods_merged = pd.read_pickle(r\"C:\\Users\\SigmaEd\\Documents\\CareerFoundry\\Instacart Basket Analysis\\02 Data\\Prepared Data\\orders_products_merged.pkl\")"
   ]
  },
  {
   "cell_type": "markdown",
   "id": "80cbcce7",
   "metadata": {},
   "source": [
    "### 03 Check Data"
   ]
  },
  {
   "cell_type": "code",
   "execution_count": 4,
   "id": "97c77786",
   "metadata": {},
   "outputs": [
    {
     "name": "stdout",
     "output_type": "stream",
     "text": [
      "<class 'pandas.core.frame.DataFrame'>\n",
      "Int64Index: 32404859 entries, 0 to 32404858\n",
      "Data columns (total 17 columns):\n",
      " #   Column                  Dtype   \n",
      "---  ------                  -----   \n",
      " 0   Unnamed: 0_x            int64   \n",
      " 1   order_id                int64   \n",
      " 2   user_id                 int64   \n",
      " 3   order_number            int64   \n",
      " 4   order_day_or_week       int64   \n",
      " 5   order_hour_of_day       int64   \n",
      " 6   days_since_prior_order  float64 \n",
      " 7   product_id              int64   \n",
      " 8   add_to_cart_order       int64   \n",
      " 9   reordered               int64   \n",
      " 10  first_merge             category\n",
      " 11  Unnamed: 0_y            int64   \n",
      " 12  product_name            object  \n",
      " 13  aisle_id                int64   \n",
      " 14  department_id           int64   \n",
      " 15  prices                  float64 \n",
      " 16  _merge                  category\n",
      "dtypes: category(2), float64(2), int64(12), object(1)\n",
      "memory usage: 3.9+ GB\n"
     ]
    }
   ],
   "source": [
    "# make sure data is intact\n",
    "ords_prods_merged.info()"
   ]
  },
  {
   "cell_type": "markdown",
   "id": "be16edec",
   "metadata": {},
   "source": [
    "### 04 Dataframe Subset"
   ]
  },
  {
   "cell_type": "code",
   "execution_count": 6,
   "id": "3daf195f",
   "metadata": {},
   "outputs": [],
   "source": [
    "# create subset for testing\n",
    "df = ords_prods_merged[:1000000]"
   ]
  },
  {
   "cell_type": "markdown",
   "id": "63807acf",
   "metadata": {},
   "source": [
    "### 05 user-defined functions"
   ]
  },
  {
   "cell_type": "code",
   "execution_count": 7,
   "id": "c135af32",
   "metadata": {},
   "outputs": [],
   "source": [
    "#define function\n",
    "def price_label(row):\n",
    "    if row['prices']<=5:\n",
    "        return 'Low-range product'\n",
    "    elif (row['prices'] > 5) and (row['prices'] <= 15):\n",
    "        return 'Mid-range product'\n",
    "    elif row['prices'] > 15:\n",
    "        return 'high-range product'\n",
    "    else: return 'Not enough data'"
   ]
  },
  {
   "cell_type": "code",
   "execution_count": 8,
   "id": "f6f1d25e",
   "metadata": {},
   "outputs": [
    {
     "name": "stderr",
     "output_type": "stream",
     "text": [
      "C:\\Users\\SigmaEd\\AppData\\Local\\Temp/ipykernel_9044/1616798649.py:2: SettingWithCopyWarning: \n",
      "A value is trying to be set on a copy of a slice from a DataFrame.\n",
      "Try using .loc[row_indexer,col_indexer] = value instead\n",
      "\n",
      "See the caveats in the documentation: https://pandas.pydata.org/pandas-docs/stable/user_guide/indexing.html#returning-a-view-versus-a-copy\n",
      "  df['price_range']=df.apply(price_label, axis = 1)\n"
     ]
    }
   ],
   "source": [
    "# execute function\n",
    "df['price_range']=df.apply(price_label, axis = 1)"
   ]
  },
  {
   "cell_type": "code",
   "execution_count": 9,
   "id": "d58b3d21",
   "metadata": {},
   "outputs": [
    {
     "data": {
      "text/plain": [
       "Mid-range product    756450\n",
       "Low-range product    243550\n",
       "Name: price_range, dtype: int64"
      ]
     },
     "execution_count": 9,
     "metadata": {},
     "output_type": "execute_result"
    }
   ],
   "source": [
    "# check fequency\n",
    "df['price_range'].value_counts(dropna = False)"
   ]
  },
  {
   "cell_type": "code",
   "execution_count": 11,
   "id": "33e8aeee",
   "metadata": {},
   "outputs": [
    {
     "data": {
      "text/plain": [
       "14.8"
      ]
     },
     "execution_count": 11,
     "metadata": {},
     "output_type": "execute_result"
    }
   ],
   "source": [
    "# check for most expensive product\n",
    "df['prices'].max()"
   ]
  },
  {
   "cell_type": "markdown",
   "id": "3a4f6fe6",
   "metadata": {},
   "source": [
    "### 06 loc() function"
   ]
  },
  {
   "cell_type": "code",
   "execution_count": 16,
   "id": "fab347f5",
   "metadata": {},
   "outputs": [],
   "source": [
    "df.loc[df['prices']<=5, 'price_range_loc']='low-range product'"
   ]
  },
  {
   "cell_type": "code",
   "execution_count": 13,
   "id": "79946e7c",
   "metadata": {},
   "outputs": [],
   "source": [
    "df.loc[(df['prices']>5) & (df['prices']<=15), 'price_range_loc']='Mid-range product'"
   ]
  },
  {
   "cell_type": "code",
   "execution_count": 14,
   "id": "a1dc59d9",
   "metadata": {},
   "outputs": [],
   "source": [
    "df.loc[df['prices']>15, 'price_range_loc']='High-range product'"
   ]
  },
  {
   "cell_type": "code",
   "execution_count": 17,
   "id": "2e4549c2",
   "metadata": {},
   "outputs": [
    {
     "data": {
      "text/plain": [
       "Mid-range product    756450\n",
       "low-range product    243550\n",
       "Name: price_range_loc, dtype: int64"
      ]
     },
     "execution_count": 17,
     "metadata": {},
     "output_type": "execute_result"
    }
   ],
   "source": [
    "# check frequency\n",
    "df['price_range_loc'].value_counts(dropna = False)"
   ]
  },
  {
   "cell_type": "code",
   "execution_count": 18,
   "id": "0d7daebf",
   "metadata": {},
   "outputs": [],
   "source": [
    "ords_prods_merged.loc[ords_prods_merged['prices']<=5, 'price_range'] = 'low-range price'"
   ]
  },
  {
   "cell_type": "code",
   "execution_count": 19,
   "id": "718d5c04",
   "metadata": {},
   "outputs": [],
   "source": [
    "ords_prods_merged.loc[(ords_prods_merged['prices']>5) & (ords_prods_merged['prices']<=15), 'price_range']='mid-range price'"
   ]
  },
  {
   "cell_type": "code",
   "execution_count": 20,
   "id": "cf2a8b28",
   "metadata": {},
   "outputs": [],
   "source": [
    "ords_prods_merged.loc[ords_prods_merged['prices']>15, 'price_range'] = 'high-range price'"
   ]
  },
  {
   "cell_type": "code",
   "execution_count": 21,
   "id": "05c432dc",
   "metadata": {},
   "outputs": [
    {
     "data": {
      "text/plain": [
       "mid-range price     21860860\n",
       "low-range price     10126321\n",
       "high-range price      417678\n",
       "Name: price_range, dtype: int64"
      ]
     },
     "execution_count": 21,
     "metadata": {},
     "output_type": "execute_result"
    }
   ],
   "source": [
    "# check frequency\n",
    "ords_prods_merged['price_range'].value_counts(dropna=False)"
   ]
  },
  {
   "cell_type": "markdown",
   "id": "8d2c7afa",
   "metadata": {},
   "source": [
    "### 07 for-loops"
   ]
  },
  {
   "cell_type": "code",
   "execution_count": 26,
   "id": "c46e74c4",
   "metadata": {},
   "outputs": [],
   "source": [
    "# find the busiest day of the week\n",
    "result = []\n",
    "for value in ords_prods_merged['order_day_or_week']:\n",
    "    if value == 0:\n",
    "        result.append('busiest day')\n",
    "    elif value == 4:\n",
    "        result.append('least busy day')\n",
    "    else:\n",
    "        result.append('regular busy day')"
   ]
  },
  {
   "cell_type": "code",
   "execution_count": 27,
   "id": "7eed2178",
   "metadata": {},
   "outputs": [],
   "source": [
    "ords_prods_merged['busiest_day'] = result"
   ]
  },
  {
   "cell_type": "code",
   "execution_count": 29,
   "id": "736a922c",
   "metadata": {},
   "outputs": [
    {
     "data": {
      "text/plain": [
       "regular busy day    22416875\n",
       "busiest day          6204182\n",
       "least busy day       3783802\n",
       "Name: busiest_day, dtype: int64"
      ]
     },
     "execution_count": 29,
     "metadata": {},
     "output_type": "execute_result"
    }
   ],
   "source": [
    "# check frequency\n",
    "ords_prods_merged['busiest_day'].value_counts(dropna = False)"
   ]
  },
  {
   "cell_type": "markdown",
   "id": "722d8e52",
   "metadata": {},
   "source": [
    "### 08 Question 2"
   ]
  },
  {
   "cell_type": "code",
   "execution_count": 34,
   "id": "fdd78b9b",
   "metadata": {},
   "outputs": [],
   "source": [
    "# find the busiest day of the week\n",
    "result = []\n",
    "for value in ords_prods_merged['order_day_or_week']:\n",
    "    if value == 0:\n",
    "        result.append('busiest day')\n",
    "    elif value == 1:\n",
    "        result.append('busiest day')\n",
    "    elif value == 4:\n",
    "        result.append('least busy day')\n",
    "    elif value == 3:\n",
    "        result.append('least busy day')\n",
    "    else:\n",
    "        result.append('regular busy day')"
   ]
  },
  {
   "cell_type": "code",
   "execution_count": 35,
   "id": "9fdff436",
   "metadata": {},
   "outputs": [],
   "source": [
    "ords_prods_merged['busiest_day'] = result"
   ]
  },
  {
   "cell_type": "code",
   "execution_count": 36,
   "id": "477fe144",
   "metadata": {},
   "outputs": [
    {
     "data": {
      "text/plain": [
       "regular busy day    12916111\n",
       "busiest day         11864412\n",
       "least busy day       7624336\n",
       "Name: busiest_day, dtype: int64"
      ]
     },
     "execution_count": 36,
     "metadata": {},
     "output_type": "execute_result"
    }
   ],
   "source": [
    "# busiest_day frequency\n",
    "ords_prods_merged['busiest_day'].value_counts(dropna = False)"
   ]
  },
  {
   "cell_type": "markdown",
   "id": "8a78bcac",
   "metadata": {},
   "source": [
    "### 09 Question 3\n",
    "'least busy' and 'busiest' days both doubled. \n",
    "'regular' and 'busiest' days are now very close to the same."
   ]
  },
  {
   "cell_type": "markdown",
   "id": "ab479152",
   "metadata": {},
   "source": [
    "### 10 Question 4"
   ]
  },
  {
   "cell_type": "code",
   "execution_count": 38,
   "id": "582d8c29",
   "metadata": {},
   "outputs": [
    {
     "data": {
      "text/plain": [
       "10    2761760\n",
       "11    2736140\n",
       "14    2689136\n",
       "15    2662144\n",
       "13    2660954\n",
       "12    2618532\n",
       "16    2535202\n",
       "9     2454203\n",
       "17    2087654\n",
       "8     1718118\n",
       "18    1636502\n",
       "19    1258305\n",
       "20     976156\n",
       "7      891054\n",
       "21     795637\n",
       "22     634225\n",
       "23     402316\n",
       "6      290493\n",
       "0      218769\n",
       "1      115700\n",
       "5       87961\n",
       "2       69375\n",
       "4       53242\n",
       "3       51281\n",
       "Name: order_hour_of_day, dtype: int64"
      ]
     },
     "execution_count": 38,
     "metadata": {},
     "output_type": "execute_result"
    }
   ],
   "source": [
    "# find busiest hours of the day\n",
    "ords_prods_merged['order_hour_of_day'].value_counts(dropna=False)"
   ]
  },
  {
   "cell_type": "code",
   "execution_count": 43,
   "id": "6a26534a",
   "metadata": {},
   "outputs": [],
   "source": [
    "ords_prods_merged.loc[ords_prods_merged['order_hour_of_day']<=6, 'busiest_period_of_day'] = 'Fewest orders'"
   ]
  },
  {
   "cell_type": "code",
   "execution_count": 44,
   "id": "fde19c9b",
   "metadata": {},
   "outputs": [],
   "source": [
    "ords_prods_merged.loc[(ords_prods_merged['order_hour_of_day']>=9) & (ords_prods_merged['order_hour_of_day']<=17), 'busiest_period_of_day']='Most orders'"
   ]
  },
  {
   "cell_type": "code",
   "execution_count": 45,
   "id": "231ebc48",
   "metadata": {},
   "outputs": [],
   "source": [
    "ords_prods_merged.loc[(ords_prods_merged['order_hour_of_day']>6) & (ords_prods_merged['order_hour_of_day']<9), 'busiest_period_of_day']='Average orders'"
   ]
  },
  {
   "cell_type": "code",
   "execution_count": 46,
   "id": "c9cf4083",
   "metadata": {},
   "outputs": [],
   "source": [
    "ords_prods_merged.loc[(ords_prods_merged['order_hour_of_day']>17) & (ords_prods_merged['order_hour_of_day']<=23), 'busiest_period_of_day']='Average orders'"
   ]
  },
  {
   "cell_type": "markdown",
   "id": "e1f45509",
   "metadata": {},
   "source": [
    "### 11 Question 5"
   ]
  },
  {
   "cell_type": "code",
   "execution_count": 47,
   "id": "a5ac341a",
   "metadata": {},
   "outputs": [
    {
     "data": {
      "text/plain": [
       "Most orders       23205725\n",
       "Average orders     8312313\n",
       "Fewest orders       886821\n",
       "Name: busiest_period_of_day, dtype: int64"
      ]
     },
     "execution_count": 47,
     "metadata": {},
     "output_type": "execute_result"
    }
   ],
   "source": [
    "# busiest_period_of_day frequency\n",
    "ords_prods_merged['busiest_period_of_day'].value_counts(dropna=False)"
   ]
  },
  {
   "cell_type": "markdown",
   "id": "1d8fda79",
   "metadata": {},
   "source": [
    "### 12 Question 7 Export Data"
   ]
  },
  {
   "cell_type": "code",
   "execution_count": 49,
   "id": "69e8989a",
   "metadata": {},
   "outputs": [],
   "source": [
    "# export dataframe to pickle\n",
    "ords_prods_merged.to_pickle(r\"C:\\Users\\SigmaEd\\Documents\\CareerFoundry\\Instacart Basket Analysis\\02 Data\\Prepared Data\\orders_products_merged4-7.pkl\")"
   ]
  }
 ],
 "metadata": {
  "kernelspec": {
   "display_name": "Python 3 (ipykernel)",
   "language": "python",
   "name": "python3"
  },
  "language_info": {
   "codemirror_mode": {
    "name": "ipython",
    "version": 3
   },
   "file_extension": ".py",
   "mimetype": "text/x-python",
   "name": "python",
   "nbconvert_exporter": "python",
   "pygments_lexer": "ipython3",
   "version": "3.9.12"
  }
 },
 "nbformat": 4,
 "nbformat_minor": 5
}
