{
 "cells": [
  {
   "cell_type": "markdown",
   "id": "8d8f4506",
   "metadata": {},
   "source": [
    "### TABLE OF CONTENTS\n",
    "01 - Import Libraries\n",
    "02 - Import Data\n",
    "03 - Check Data\n",
    "04 - Data Analysis\n",
    "The sales team needs to know what the busiest days of the week and hours of the day are (i.e., the days and times with the most orders) in order to schedule ads at times when there are fewer orders.\n",
    "\n",
    "The sales team needs to know whether there are particular times of the day when people spend the most money?\n",
    "\n",
    "Are there certain types of products that are more popular than others? The marketing and sales teams want to know which departments have the highest frequency of product orders.\n",
    "\n",
    "The marketing and sales teams are particularly interested in the different types of customers in their system and how their ordering behaviors differ. For example:\n",
    "What’s the distribution among users in regards to their brand loyalty (i.e., how often do they return to Instacart)?\n",
    "Are there differences in ordering habits based on a customer’s loyalty status?\n",
    "Are there differences in ordering habits based on a customer’s region?\n",
    "Is there a connection between age and family status in terms of ordering habits?\n",
    "What different classifications does the demographic information suggest? Age? Income? Certain types of goods? Family status?\n"
   ]
  },
  {
   "cell_type": "markdown",
   "id": "9237cdf8",
   "metadata": {},
   "source": [
    "### 01 Import Libraries"
   ]
  },
  {
   "cell_type": "code",
   "execution_count": 1,
   "id": "758bfa82",
   "metadata": {},
   "outputs": [],
   "source": [
    "# import Libraries\n",
    "import pandas as pd\n",
    "import pandas_profiling\n",
    "import numpy as np\n",
    "import os\n",
    "import matplotlib.pyplot as plt\n",
    "import seaborn as sns\n",
    "import scipy\n",
    "import chardet\n",
    "import fuzzywuzzy"
   ]
  },
  {
   "cell_type": "markdown",
   "id": "cf584515",
   "metadata": {},
   "source": [
    "### 02 Import Data"
   ]
  },
  {
   "cell_type": "code",
   "execution_count": 2,
   "id": "78fdefc3",
   "metadata": {},
   "outputs": [],
   "source": [
    "df=pd.read_pickle(r\"C:\\Users\\drmat\\OneDrive\\Documents\\Instacart Basket Analysis\\02 Data\\Prepared Data\\final_merged4-10.pkl\")"
   ]
  },
  {
   "cell_type": "markdown",
   "id": "9b74b9e5",
   "metadata": {},
   "source": [
    "### 03 Check Data"
   ]
  },
  {
   "cell_type": "code",
   "execution_count": 10,
   "id": "74229674",
   "metadata": {},
   "outputs": [],
   "source": [
    "pd.options.display.max_columns = None"
   ]
  },
  {
   "cell_type": "code",
   "execution_count": 3,
   "id": "403f8843",
   "metadata": {},
   "outputs": [
    {
     "name": "stdout",
     "output_type": "stream",
     "text": [
      "<class 'pandas.core.frame.DataFrame'>\n",
      "Int64Index: 32641279 entries, 0 to 32641278\n",
      "Data columns (total 36 columns):\n",
      " #   Column                  Dtype  \n",
      "---  ------                  -----  \n",
      " 0   order_id                float64\n",
      " 1   user_id                 float64\n",
      " 2   order_number            float64\n",
      " 3   order_day_of_week       float64\n",
      " 4   order_hour_of_day       float64\n",
      " 5   days_since_prior_order  float64\n",
      " 6   product_id              float64\n",
      " 7   add_to_cart_order       float64\n",
      " 8   reordered               float64\n",
      " 9   product_name            object \n",
      " 10  aisle_id                float64\n",
      " 11  department_id           float64\n",
      " 12  prices                  float64\n",
      " 13  price_range_loc         object \n",
      " 14  busiest days            object \n",
      " 15  busiest_period_of_day   object \n",
      " 16  max_order               float64\n",
      " 17  loyalty_flag            object \n",
      " 18  average_price           float64\n",
      " 19  spending_flag           object \n",
      " 20  median_days             float64\n",
      " 21  order_frequency_flag    object \n",
      " 22  Gender                  object \n",
      " 23  STATE                   object \n",
      " 24  Age                     float64\n",
      " 25  date_joined             object \n",
      " 26  n_dependants            float64\n",
      " 27  fam_status              object \n",
      " 28  income                  float64\n",
      " 29  department              object \n",
      " 30  region                  object \n",
      " 31  activity_level          object \n",
      " 32  age_groups              object \n",
      " 33  income_range            object \n",
      " 34  parents                 object \n",
      " 35  age_dep_profile         object \n",
      "dtypes: float64(18), object(18)\n",
      "memory usage: 9.0+ GB\n"
     ]
    }
   ],
   "source": [
    "df.info()"
   ]
  },
  {
   "cell_type": "code",
   "execution_count": 11,
   "id": "69636f27",
   "metadata": {},
   "outputs": [
    {
     "data": {
      "text/html": [
       "<div>\n",
       "<style scoped>\n",
       "    .dataframe tbody tr th:only-of-type {\n",
       "        vertical-align: middle;\n",
       "    }\n",
       "\n",
       "    .dataframe tbody tr th {\n",
       "        vertical-align: top;\n",
       "    }\n",
       "\n",
       "    .dataframe thead th {\n",
       "        text-align: right;\n",
       "    }\n",
       "</style>\n",
       "<table border=\"1\" class=\"dataframe\">\n",
       "  <thead>\n",
       "    <tr style=\"text-align: right;\">\n",
       "      <th></th>\n",
       "      <th>order_id</th>\n",
       "      <th>user_id</th>\n",
       "      <th>order_number</th>\n",
       "      <th>order_day_of_week</th>\n",
       "      <th>order_hour_of_day</th>\n",
       "      <th>days_since_prior_order</th>\n",
       "      <th>product_id</th>\n",
       "      <th>add_to_cart_order</th>\n",
       "      <th>reordered</th>\n",
       "      <th>product_name</th>\n",
       "      <th>aisle_id</th>\n",
       "      <th>department_id</th>\n",
       "      <th>prices</th>\n",
       "      <th>price_range_loc</th>\n",
       "      <th>busiest days</th>\n",
       "      <th>busiest_period_of_day</th>\n",
       "      <th>max_order</th>\n",
       "      <th>loyalty_flag</th>\n",
       "      <th>average_price</th>\n",
       "      <th>spending_flag</th>\n",
       "      <th>median_days</th>\n",
       "      <th>order_frequency_flag</th>\n",
       "      <th>Gender</th>\n",
       "      <th>STATE</th>\n",
       "      <th>Age</th>\n",
       "      <th>date_joined</th>\n",
       "      <th>n_dependants</th>\n",
       "      <th>fam_status</th>\n",
       "      <th>income</th>\n",
       "      <th>department</th>\n",
       "      <th>region</th>\n",
       "      <th>activity_level</th>\n",
       "      <th>age_groups</th>\n",
       "      <th>income_range</th>\n",
       "      <th>parents</th>\n",
       "      <th>age_dep_profile</th>\n",
       "    </tr>\n",
       "  </thead>\n",
       "  <tbody>\n",
       "    <tr>\n",
       "      <th>0</th>\n",
       "      <td>2539329.0</td>\n",
       "      <td>1.0</td>\n",
       "      <td>1.0</td>\n",
       "      <td>2.0</td>\n",
       "      <td>8.0</td>\n",
       "      <td>NaN</td>\n",
       "      <td>196.0</td>\n",
       "      <td>1.0</td>\n",
       "      <td>0.0</td>\n",
       "      <td>Soda</td>\n",
       "      <td>77.0</td>\n",
       "      <td>7.0</td>\n",
       "      <td>9.0</td>\n",
       "      <td>mid range product</td>\n",
       "      <td>regular day</td>\n",
       "      <td>average orders</td>\n",
       "      <td>11.0</td>\n",
       "      <td>regular customer</td>\n",
       "      <td>6.367797</td>\n",
       "      <td>low spender</td>\n",
       "      <td>20.0</td>\n",
       "      <td>Regular customer</td>\n",
       "      <td>Female</td>\n",
       "      <td>Alabama</td>\n",
       "      <td>31.0</td>\n",
       "      <td>2/17/2019</td>\n",
       "      <td>3.0</td>\n",
       "      <td>married</td>\n",
       "      <td>40423.0</td>\n",
       "      <td>beverages</td>\n",
       "      <td>South</td>\n",
       "      <td>High-Activity</td>\n",
       "      <td>under 40</td>\n",
       "      <td>under 100k</td>\n",
       "      <td>Parent</td>\n",
       "      <td>Young Parent</td>\n",
       "    </tr>\n",
       "    <tr>\n",
       "      <th>1</th>\n",
       "      <td>2398795.0</td>\n",
       "      <td>1.0</td>\n",
       "      <td>2.0</td>\n",
       "      <td>3.0</td>\n",
       "      <td>7.0</td>\n",
       "      <td>15.0</td>\n",
       "      <td>196.0</td>\n",
       "      <td>1.0</td>\n",
       "      <td>1.0</td>\n",
       "      <td>Soda</td>\n",
       "      <td>77.0</td>\n",
       "      <td>7.0</td>\n",
       "      <td>9.0</td>\n",
       "      <td>mid range product</td>\n",
       "      <td>least busy day</td>\n",
       "      <td>average orders</td>\n",
       "      <td>11.0</td>\n",
       "      <td>regular customer</td>\n",
       "      <td>6.367797</td>\n",
       "      <td>low spender</td>\n",
       "      <td>20.0</td>\n",
       "      <td>Regular customer</td>\n",
       "      <td>Female</td>\n",
       "      <td>Alabama</td>\n",
       "      <td>31.0</td>\n",
       "      <td>2/17/2019</td>\n",
       "      <td>3.0</td>\n",
       "      <td>married</td>\n",
       "      <td>40423.0</td>\n",
       "      <td>beverages</td>\n",
       "      <td>South</td>\n",
       "      <td>High-Activity</td>\n",
       "      <td>under 40</td>\n",
       "      <td>under 100k</td>\n",
       "      <td>Parent</td>\n",
       "      <td>Young Parent</td>\n",
       "    </tr>\n",
       "    <tr>\n",
       "      <th>2</th>\n",
       "      <td>473747.0</td>\n",
       "      <td>1.0</td>\n",
       "      <td>3.0</td>\n",
       "      <td>3.0</td>\n",
       "      <td>12.0</td>\n",
       "      <td>21.0</td>\n",
       "      <td>196.0</td>\n",
       "      <td>1.0</td>\n",
       "      <td>1.0</td>\n",
       "      <td>Soda</td>\n",
       "      <td>77.0</td>\n",
       "      <td>7.0</td>\n",
       "      <td>9.0</td>\n",
       "      <td>mid range product</td>\n",
       "      <td>least busy day</td>\n",
       "      <td>most orders</td>\n",
       "      <td>11.0</td>\n",
       "      <td>regular customer</td>\n",
       "      <td>6.367797</td>\n",
       "      <td>low spender</td>\n",
       "      <td>20.0</td>\n",
       "      <td>Regular customer</td>\n",
       "      <td>Female</td>\n",
       "      <td>Alabama</td>\n",
       "      <td>31.0</td>\n",
       "      <td>2/17/2019</td>\n",
       "      <td>3.0</td>\n",
       "      <td>married</td>\n",
       "      <td>40423.0</td>\n",
       "      <td>beverages</td>\n",
       "      <td>South</td>\n",
       "      <td>High-Activity</td>\n",
       "      <td>under 40</td>\n",
       "      <td>under 100k</td>\n",
       "      <td>Parent</td>\n",
       "      <td>Young Parent</td>\n",
       "    </tr>\n",
       "    <tr>\n",
       "      <th>3</th>\n",
       "      <td>2254736.0</td>\n",
       "      <td>1.0</td>\n",
       "      <td>4.0</td>\n",
       "      <td>4.0</td>\n",
       "      <td>7.0</td>\n",
       "      <td>29.0</td>\n",
       "      <td>196.0</td>\n",
       "      <td>1.0</td>\n",
       "      <td>1.0</td>\n",
       "      <td>Soda</td>\n",
       "      <td>77.0</td>\n",
       "      <td>7.0</td>\n",
       "      <td>9.0</td>\n",
       "      <td>mid range product</td>\n",
       "      <td>least busy day</td>\n",
       "      <td>average orders</td>\n",
       "      <td>11.0</td>\n",
       "      <td>regular customer</td>\n",
       "      <td>6.367797</td>\n",
       "      <td>low spender</td>\n",
       "      <td>20.0</td>\n",
       "      <td>Regular customer</td>\n",
       "      <td>Female</td>\n",
       "      <td>Alabama</td>\n",
       "      <td>31.0</td>\n",
       "      <td>2/17/2019</td>\n",
       "      <td>3.0</td>\n",
       "      <td>married</td>\n",
       "      <td>40423.0</td>\n",
       "      <td>beverages</td>\n",
       "      <td>South</td>\n",
       "      <td>High-Activity</td>\n",
       "      <td>under 40</td>\n",
       "      <td>under 100k</td>\n",
       "      <td>Parent</td>\n",
       "      <td>Young Parent</td>\n",
       "    </tr>\n",
       "    <tr>\n",
       "      <th>4</th>\n",
       "      <td>431534.0</td>\n",
       "      <td>1.0</td>\n",
       "      <td>5.0</td>\n",
       "      <td>4.0</td>\n",
       "      <td>15.0</td>\n",
       "      <td>28.0</td>\n",
       "      <td>196.0</td>\n",
       "      <td>1.0</td>\n",
       "      <td>1.0</td>\n",
       "      <td>Soda</td>\n",
       "      <td>77.0</td>\n",
       "      <td>7.0</td>\n",
       "      <td>9.0</td>\n",
       "      <td>mid range product</td>\n",
       "      <td>least busy day</td>\n",
       "      <td>most orders</td>\n",
       "      <td>11.0</td>\n",
       "      <td>regular customer</td>\n",
       "      <td>6.367797</td>\n",
       "      <td>low spender</td>\n",
       "      <td>20.0</td>\n",
       "      <td>Regular customer</td>\n",
       "      <td>Female</td>\n",
       "      <td>Alabama</td>\n",
       "      <td>31.0</td>\n",
       "      <td>2/17/2019</td>\n",
       "      <td>3.0</td>\n",
       "      <td>married</td>\n",
       "      <td>40423.0</td>\n",
       "      <td>beverages</td>\n",
       "      <td>South</td>\n",
       "      <td>High-Activity</td>\n",
       "      <td>under 40</td>\n",
       "      <td>under 100k</td>\n",
       "      <td>Parent</td>\n",
       "      <td>Young Parent</td>\n",
       "    </tr>\n",
       "  </tbody>\n",
       "</table>\n",
       "</div>"
      ],
      "text/plain": [
       "    order_id  user_id  order_number  order_day_of_week  order_hour_of_day  \\\n",
       "0  2539329.0      1.0           1.0                2.0                8.0   \n",
       "1  2398795.0      1.0           2.0                3.0                7.0   \n",
       "2   473747.0      1.0           3.0                3.0               12.0   \n",
       "3  2254736.0      1.0           4.0                4.0                7.0   \n",
       "4   431534.0      1.0           5.0                4.0               15.0   \n",
       "\n",
       "   days_since_prior_order  product_id  add_to_cart_order  reordered  \\\n",
       "0                     NaN       196.0                1.0        0.0   \n",
       "1                    15.0       196.0                1.0        1.0   \n",
       "2                    21.0       196.0                1.0        1.0   \n",
       "3                    29.0       196.0                1.0        1.0   \n",
       "4                    28.0       196.0                1.0        1.0   \n",
       "\n",
       "  product_name  aisle_id  department_id  prices    price_range_loc  \\\n",
       "0         Soda      77.0            7.0     9.0  mid range product   \n",
       "1         Soda      77.0            7.0     9.0  mid range product   \n",
       "2         Soda      77.0            7.0     9.0  mid range product   \n",
       "3         Soda      77.0            7.0     9.0  mid range product   \n",
       "4         Soda      77.0            7.0     9.0  mid range product   \n",
       "\n",
       "     busiest days busiest_period_of_day  max_order      loyalty_flag  \\\n",
       "0     regular day        average orders       11.0  regular customer   \n",
       "1  least busy day        average orders       11.0  regular customer   \n",
       "2  least busy day           most orders       11.0  regular customer   \n",
       "3  least busy day        average orders       11.0  regular customer   \n",
       "4  least busy day           most orders       11.0  regular customer   \n",
       "\n",
       "   average_price spending_flag  median_days order_frequency_flag  Gender  \\\n",
       "0       6.367797   low spender         20.0     Regular customer  Female   \n",
       "1       6.367797   low spender         20.0     Regular customer  Female   \n",
       "2       6.367797   low spender         20.0     Regular customer  Female   \n",
       "3       6.367797   low spender         20.0     Regular customer  Female   \n",
       "4       6.367797   low spender         20.0     Regular customer  Female   \n",
       "\n",
       "     STATE   Age date_joined  n_dependants fam_status   income department  \\\n",
       "0  Alabama  31.0   2/17/2019           3.0    married  40423.0  beverages   \n",
       "1  Alabama  31.0   2/17/2019           3.0    married  40423.0  beverages   \n",
       "2  Alabama  31.0   2/17/2019           3.0    married  40423.0  beverages   \n",
       "3  Alabama  31.0   2/17/2019           3.0    married  40423.0  beverages   \n",
       "4  Alabama  31.0   2/17/2019           3.0    married  40423.0  beverages   \n",
       "\n",
       "  region activity_level age_groups income_range parents age_dep_profile  \n",
       "0  South  High-Activity   under 40   under 100k  Parent    Young Parent  \n",
       "1  South  High-Activity   under 40   under 100k  Parent    Young Parent  \n",
       "2  South  High-Activity   under 40   under 100k  Parent    Young Parent  \n",
       "3  South  High-Activity   under 40   under 100k  Parent    Young Parent  \n",
       "4  South  High-Activity   under 40   under 100k  Parent    Young Parent  "
      ]
     },
     "execution_count": 11,
     "metadata": {},
     "output_type": "execute_result"
    }
   ],
   "source": [
    "df.head()"
   ]
  },
  {
   "cell_type": "code",
   "execution_count": 12,
   "id": "4dbfd4c7",
   "metadata": {},
   "outputs": [
    {
     "data": {
      "text/html": [
       "<div>\n",
       "<style scoped>\n",
       "    .dataframe tbody tr th:only-of-type {\n",
       "        vertical-align: middle;\n",
       "    }\n",
       "\n",
       "    .dataframe tbody tr th {\n",
       "        vertical-align: top;\n",
       "    }\n",
       "\n",
       "    .dataframe thead th {\n",
       "        text-align: right;\n",
       "    }\n",
       "</style>\n",
       "<table border=\"1\" class=\"dataframe\">\n",
       "  <thead>\n",
       "    <tr style=\"text-align: right;\">\n",
       "      <th></th>\n",
       "      <th>order_id</th>\n",
       "      <th>user_id</th>\n",
       "      <th>order_number</th>\n",
       "      <th>order_day_of_week</th>\n",
       "      <th>order_hour_of_day</th>\n",
       "      <th>days_since_prior_order</th>\n",
       "      <th>product_id</th>\n",
       "      <th>add_to_cart_order</th>\n",
       "      <th>reordered</th>\n",
       "      <th>product_name</th>\n",
       "      <th>aisle_id</th>\n",
       "      <th>department_id</th>\n",
       "      <th>prices</th>\n",
       "      <th>price_range_loc</th>\n",
       "      <th>busiest days</th>\n",
       "      <th>busiest_period_of_day</th>\n",
       "      <th>max_order</th>\n",
       "      <th>loyalty_flag</th>\n",
       "      <th>average_price</th>\n",
       "      <th>spending_flag</th>\n",
       "      <th>median_days</th>\n",
       "      <th>order_frequency_flag</th>\n",
       "      <th>Gender</th>\n",
       "      <th>STATE</th>\n",
       "      <th>Age</th>\n",
       "      <th>date_joined</th>\n",
       "      <th>n_dependants</th>\n",
       "      <th>fam_status</th>\n",
       "      <th>income</th>\n",
       "      <th>department</th>\n",
       "      <th>region</th>\n",
       "      <th>activity_level</th>\n",
       "      <th>age_groups</th>\n",
       "      <th>income_range</th>\n",
       "      <th>parents</th>\n",
       "      <th>age_dep_profile</th>\n",
       "    </tr>\n",
       "  </thead>\n",
       "  <tbody>\n",
       "    <tr>\n",
       "      <th>32641274</th>\n",
       "      <td>101324.0</td>\n",
       "      <td>205811.0</td>\n",
       "      <td>12.0</td>\n",
       "      <td>0.0</td>\n",
       "      <td>22.0</td>\n",
       "      <td>25.0</td>\n",
       "      <td>42091.0</td>\n",
       "      <td>6.0</td>\n",
       "      <td>0.0</td>\n",
       "      <td>Pesto Sauce</td>\n",
       "      <td>68.0</td>\n",
       "      <td>10.0</td>\n",
       "      <td>5.7</td>\n",
       "      <td>mid range product</td>\n",
       "      <td>busiest day</td>\n",
       "      <td>average orders</td>\n",
       "      <td>20.0</td>\n",
       "      <td>regular customer</td>\n",
       "      <td>7.438138</td>\n",
       "      <td>low spender</td>\n",
       "      <td>21.0</td>\n",
       "      <td>Non-frequent customer</td>\n",
       "      <td>Male</td>\n",
       "      <td>New Mexico</td>\n",
       "      <td>80.0</td>\n",
       "      <td>10/3/2019</td>\n",
       "      <td>0.0</td>\n",
       "      <td>divorced/widowed</td>\n",
       "      <td>169212.0</td>\n",
       "      <td>bulk</td>\n",
       "      <td>West</td>\n",
       "      <td>High-Activity</td>\n",
       "      <td>over 60</td>\n",
       "      <td>100-300k</td>\n",
       "      <td>Not Parent</td>\n",
       "      <td>Older Non Parent</td>\n",
       "    </tr>\n",
       "    <tr>\n",
       "      <th>32641275</th>\n",
       "      <td>1968235.0</td>\n",
       "      <td>205961.0</td>\n",
       "      <td>1.0</td>\n",
       "      <td>0.0</td>\n",
       "      <td>15.0</td>\n",
       "      <td>NaN</td>\n",
       "      <td>42091.0</td>\n",
       "      <td>13.0</td>\n",
       "      <td>0.0</td>\n",
       "      <td>Pesto Sauce</td>\n",
       "      <td>68.0</td>\n",
       "      <td>10.0</td>\n",
       "      <td>5.7</td>\n",
       "      <td>mid range product</td>\n",
       "      <td>busiest day</td>\n",
       "      <td>most orders</td>\n",
       "      <td>7.0</td>\n",
       "      <td>new customer</td>\n",
       "      <td>7.291358</td>\n",
       "      <td>low spender</td>\n",
       "      <td>30.0</td>\n",
       "      <td>Non-frequent customer</td>\n",
       "      <td>Female</td>\n",
       "      <td>Nevada</td>\n",
       "      <td>44.0</td>\n",
       "      <td>9/10/2019</td>\n",
       "      <td>3.0</td>\n",
       "      <td>married</td>\n",
       "      <td>112634.0</td>\n",
       "      <td>bulk</td>\n",
       "      <td>West</td>\n",
       "      <td>High-Activity</td>\n",
       "      <td>40-60</td>\n",
       "      <td>100-300k</td>\n",
       "      <td>Parent</td>\n",
       "      <td>Mid Age Parent</td>\n",
       "    </tr>\n",
       "    <tr>\n",
       "      <th>32641276</th>\n",
       "      <td>2340086.0</td>\n",
       "      <td>205961.0</td>\n",
       "      <td>4.0</td>\n",
       "      <td>3.0</td>\n",
       "      <td>10.0</td>\n",
       "      <td>22.0</td>\n",
       "      <td>42091.0</td>\n",
       "      <td>8.0</td>\n",
       "      <td>1.0</td>\n",
       "      <td>Pesto Sauce</td>\n",
       "      <td>68.0</td>\n",
       "      <td>10.0</td>\n",
       "      <td>5.7</td>\n",
       "      <td>mid range product</td>\n",
       "      <td>least busy day</td>\n",
       "      <td>most orders</td>\n",
       "      <td>7.0</td>\n",
       "      <td>new customer</td>\n",
       "      <td>7.291358</td>\n",
       "      <td>low spender</td>\n",
       "      <td>30.0</td>\n",
       "      <td>Non-frequent customer</td>\n",
       "      <td>Female</td>\n",
       "      <td>Nevada</td>\n",
       "      <td>44.0</td>\n",
       "      <td>9/10/2019</td>\n",
       "      <td>3.0</td>\n",
       "      <td>married</td>\n",
       "      <td>112634.0</td>\n",
       "      <td>bulk</td>\n",
       "      <td>West</td>\n",
       "      <td>High-Activity</td>\n",
       "      <td>40-60</td>\n",
       "      <td>100-300k</td>\n",
       "      <td>Parent</td>\n",
       "      <td>Mid Age Parent</td>\n",
       "    </tr>\n",
       "    <tr>\n",
       "      <th>32641277</th>\n",
       "      <td>3305261.0</td>\n",
       "      <td>205999.0</td>\n",
       "      <td>15.0</td>\n",
       "      <td>4.0</td>\n",
       "      <td>15.0</td>\n",
       "      <td>17.0</td>\n",
       "      <td>5161.0</td>\n",
       "      <td>29.0</td>\n",
       "      <td>0.0</td>\n",
       "      <td>Dried Mango</td>\n",
       "      <td>18.0</td>\n",
       "      <td>10.0</td>\n",
       "      <td>6.1</td>\n",
       "      <td>mid range product</td>\n",
       "      <td>least busy day</td>\n",
       "      <td>most orders</td>\n",
       "      <td>22.0</td>\n",
       "      <td>regular customer</td>\n",
       "      <td>6.741290</td>\n",
       "      <td>low spender</td>\n",
       "      <td>14.0</td>\n",
       "      <td>Regular customer</td>\n",
       "      <td>Female</td>\n",
       "      <td>Florida</td>\n",
       "      <td>23.0</td>\n",
       "      <td>3/25/2018</td>\n",
       "      <td>0.0</td>\n",
       "      <td>single</td>\n",
       "      <td>40688.0</td>\n",
       "      <td>bulk</td>\n",
       "      <td>South</td>\n",
       "      <td>High-Activity</td>\n",
       "      <td>under 40</td>\n",
       "      <td>under 100k</td>\n",
       "      <td>Not Parent</td>\n",
       "      <td>Young Non Parent</td>\n",
       "    </tr>\n",
       "    <tr>\n",
       "      <th>32641278</th>\n",
       "      <td>452362.0</td>\n",
       "      <td>206011.0</td>\n",
       "      <td>14.0</td>\n",
       "      <td>4.0</td>\n",
       "      <td>14.0</td>\n",
       "      <td>1.0</td>\n",
       "      <td>22827.0</td>\n",
       "      <td>5.0</td>\n",
       "      <td>0.0</td>\n",
       "      <td>Organic Black Mission Figs</td>\n",
       "      <td>18.0</td>\n",
       "      <td>10.0</td>\n",
       "      <td>5.1</td>\n",
       "      <td>mid range product</td>\n",
       "      <td>least busy day</td>\n",
       "      <td>most orders</td>\n",
       "      <td>16.0</td>\n",
       "      <td>regular customer</td>\n",
       "      <td>7.480769</td>\n",
       "      <td>low spender</td>\n",
       "      <td>27.0</td>\n",
       "      <td>Non-frequent customer</td>\n",
       "      <td>Female</td>\n",
       "      <td>Nebraska</td>\n",
       "      <td>81.0</td>\n",
       "      <td>2/11/2018</td>\n",
       "      <td>3.0</td>\n",
       "      <td>married</td>\n",
       "      <td>145938.0</td>\n",
       "      <td>bulk</td>\n",
       "      <td>Midwest</td>\n",
       "      <td>High-Activity</td>\n",
       "      <td>over 60</td>\n",
       "      <td>100-300k</td>\n",
       "      <td>Parent</td>\n",
       "      <td>Older Parent</td>\n",
       "    </tr>\n",
       "  </tbody>\n",
       "</table>\n",
       "</div>"
      ],
      "text/plain": [
       "           order_id   user_id  order_number  order_day_of_week  \\\n",
       "32641274   101324.0  205811.0          12.0                0.0   \n",
       "32641275  1968235.0  205961.0           1.0                0.0   \n",
       "32641276  2340086.0  205961.0           4.0                3.0   \n",
       "32641277  3305261.0  205999.0          15.0                4.0   \n",
       "32641278   452362.0  206011.0          14.0                4.0   \n",
       "\n",
       "          order_hour_of_day  days_since_prior_order  product_id  \\\n",
       "32641274               22.0                    25.0     42091.0   \n",
       "32641275               15.0                     NaN     42091.0   \n",
       "32641276               10.0                    22.0     42091.0   \n",
       "32641277               15.0                    17.0      5161.0   \n",
       "32641278               14.0                     1.0     22827.0   \n",
       "\n",
       "          add_to_cart_order  reordered                product_name  aisle_id  \\\n",
       "32641274                6.0        0.0                 Pesto Sauce      68.0   \n",
       "32641275               13.0        0.0                 Pesto Sauce      68.0   \n",
       "32641276                8.0        1.0                 Pesto Sauce      68.0   \n",
       "32641277               29.0        0.0                 Dried Mango      18.0   \n",
       "32641278                5.0        0.0  Organic Black Mission Figs      18.0   \n",
       "\n",
       "          department_id  prices    price_range_loc    busiest days  \\\n",
       "32641274           10.0     5.7  mid range product     busiest day   \n",
       "32641275           10.0     5.7  mid range product     busiest day   \n",
       "32641276           10.0     5.7  mid range product  least busy day   \n",
       "32641277           10.0     6.1  mid range product  least busy day   \n",
       "32641278           10.0     5.1  mid range product  least busy day   \n",
       "\n",
       "         busiest_period_of_day  max_order      loyalty_flag  average_price  \\\n",
       "32641274        average orders       20.0  regular customer       7.438138   \n",
       "32641275           most orders        7.0      new customer       7.291358   \n",
       "32641276           most orders        7.0      new customer       7.291358   \n",
       "32641277           most orders       22.0  regular customer       6.741290   \n",
       "32641278           most orders       16.0  regular customer       7.480769   \n",
       "\n",
       "         spending_flag  median_days   order_frequency_flag  Gender  \\\n",
       "32641274   low spender         21.0  Non-frequent customer    Male   \n",
       "32641275   low spender         30.0  Non-frequent customer  Female   \n",
       "32641276   low spender         30.0  Non-frequent customer  Female   \n",
       "32641277   low spender         14.0       Regular customer  Female   \n",
       "32641278   low spender         27.0  Non-frequent customer  Female   \n",
       "\n",
       "               STATE   Age date_joined  n_dependants        fam_status  \\\n",
       "32641274  New Mexico  80.0   10/3/2019           0.0  divorced/widowed   \n",
       "32641275      Nevada  44.0   9/10/2019           3.0           married   \n",
       "32641276      Nevada  44.0   9/10/2019           3.0           married   \n",
       "32641277     Florida  23.0   3/25/2018           0.0            single   \n",
       "32641278    Nebraska  81.0   2/11/2018           3.0           married   \n",
       "\n",
       "            income department   region activity_level age_groups income_range  \\\n",
       "32641274  169212.0       bulk     West  High-Activity    over 60     100-300k   \n",
       "32641275  112634.0       bulk     West  High-Activity      40-60     100-300k   \n",
       "32641276  112634.0       bulk     West  High-Activity      40-60     100-300k   \n",
       "32641277   40688.0       bulk    South  High-Activity   under 40   under 100k   \n",
       "32641278  145938.0       bulk  Midwest  High-Activity    over 60     100-300k   \n",
       "\n",
       "             parents   age_dep_profile  \n",
       "32641274  Not Parent  Older Non Parent  \n",
       "32641275      Parent    Mid Age Parent  \n",
       "32641276      Parent    Mid Age Parent  \n",
       "32641277  Not Parent  Young Non Parent  \n",
       "32641278      Parent      Older Parent  "
      ]
     },
     "execution_count": 12,
     "metadata": {},
     "output_type": "execute_result"
    }
   ],
   "source": [
    "df.tail()"
   ]
  },
  {
   "cell_type": "code",
   "execution_count": 13,
   "id": "222c5992",
   "metadata": {},
   "outputs": [
    {
     "data": {
      "text/plain": [
       "Banana                                                                                                                472565\n",
       "Bag of Organic Bananas                                                                                                379450\n",
       "Organic Strawberries                                                                                                  264683\n",
       "Organic Baby Spinach                                                                                                  241921\n",
       "Organic Hass Avocado                                                                                                  213584\n",
       "                                                                                                                       ...  \n",
       "Super Nutrition Vanilla Shake                                                                                              1\n",
       "Smooth & Silky Head and Shoulders Smooth & Silky 2-in-1 Dandruff Shampoo + Conditioner 13.5 Fl Oz Female Hair Care         1\n",
       "'Swingtop' Premium Lager                                                                                                   1\n",
       "Organic Ice Cream Birthday Cake                                                                                            1\n",
       "Hot Chili with Beans                                                                                                       1\n",
       "Name: product_name, Length: 49672, dtype: int64"
      ]
     },
     "execution_count": 13,
     "metadata": {},
     "output_type": "execute_result"
    }
   ],
   "source": [
    "df['product_name'].value_counts()"
   ]
  },
  {
   "cell_type": "markdown",
   "id": "e9c8e147",
   "metadata": {},
   "source": [
    "### 04 Data Analysis"
   ]
  },
  {
   "cell_type": "markdown",
   "id": "e01e92a5",
   "metadata": {},
   "source": [
    "#### What’s the distribution among users in regards to their brand loyalty (i.e., how often do they return to Instacart)?"
   ]
  },
  {
   "cell_type": "code",
   "execution_count": 7,
   "id": "32b81afd",
   "metadata": {},
   "outputs": [
    {
     "data": {
      "image/png": "[encoded data removed]",
      "text/plain": [
       "<Figure size 576x396 with 1 Axes>"
      ]
     },
     "metadata": {},
     "output_type": "display_data"
    }
   ],
   "source": [
    "bar_frequency_flag = df['order_frequency_flag'].value_counts().plot.bar()"
   ]
  },
  {
   "cell_type": "markdown",
   "id": "0b2f6c32",
   "metadata": {},
   "source": [
    "#### Are there differences in ordering habits based on a customer’s loyalty status?"
   ]
  },
  {
   "cell_type": "code",
   "execution_count": 6,
   "id": "f1a9941b",
   "metadata": {},
   "outputs": [
    {
     "data": {
      "image/png": "[encoded data removed]",
      "text/plain": [
       "<Figure size 576x396 with 1 Axes>"
      ]
     },
     "metadata": {},
     "output_type": "display_data"
    }
   ],
   "source": [
    "bar_loyalty_flag = df['loyalty_flag'].value_counts().plot.bar()"
   ]
  },
  {
   "cell_type": "markdown",
   "id": "cda7b9d7",
   "metadata": {},
   "source": [
    "#### Are there differences in ordering habits based on a customer’s region?"
   ]
  },
  {
   "cell_type": "code",
   "execution_count": 8,
   "id": "a6e706ac",
   "metadata": {},
   "outputs": [
    {
     "data": {
      "image/png": "[encoded data removed]",
      "text/plain": [
       "<Figure size 576x396 with 1 Axes>"
      ]
     },
     "metadata": {},
     "output_type": "display_data"
    }
   ],
   "source": [
    "bar_region_order = df['region'].value_counts().plot.bar()"
   ]
  },
  {
   "cell_type": "markdown",
   "id": "fb48a690",
   "metadata": {},
   "source": [
    "#### Is there a connection between age and family status in terms of ordering habits?"
   ]
  },
  {
   "cell_type": "code",
   "execution_count": 9,
   "id": "c551b0fb",
   "metadata": {},
   "outputs": [
    {
     "data": {
      "image/png": "[encoded data removed]",
      "text/plain": [
       "<Figure size 576x396 with 1 Axes>"
      ]
     },
     "metadata": {},
     "output_type": "display_data"
    }
   ],
   "source": [
    "bar_age_dep_profile = df['age_dep_profile'].value_counts().plot.bar()"
   ]
  },
  {
   "cell_type": "markdown",
   "id": "f0ab53fe",
   "metadata": {},
   "source": [
    "#### What different classifications does the demographic information suggest? Age"
   ]
  },
  {
   "cell_type": "code",
   "execution_count": 114,
   "id": "fc9366ee",
   "metadata": {},
   "outputs": [],
   "source": [
    "crosstab_age_prior_order = pd.crosstab(df['age_groups'], df['order_frequency_flag'])  "
   ]
  },
  {
   "cell_type": "code",
   "execution_count": 115,
   "id": "88faa3c3",
   "metadata": {},
   "outputs": [
    {
     "data": {
      "text/html": [
       "<div>\n",
       "<style scoped>\n",
       "    .dataframe tbody tr th:only-of-type {\n",
       "        vertical-align: middle;\n",
       "    }\n",
       "\n",
       "    .dataframe tbody tr th {\n",
       "        vertical-align: top;\n",
       "    }\n",
       "\n",
       "    .dataframe thead th {\n",
       "        text-align: right;\n",
       "    }\n",
       "</style>\n",
       "<table border=\"1\" class=\"dataframe\">\n",
       "  <thead>\n",
       "    <tr style=\"text-align: right;\">\n",
       "      <th>order_frequency_flag</th>\n",
       "      <th>Frequent customer</th>\n",
       "      <th>Non-frequent customer</th>\n",
       "      <th>Regular customer</th>\n",
       "    </tr>\n",
       "    <tr>\n",
       "      <th>age_groups</th>\n",
       "      <th></th>\n",
       "      <th></th>\n",
       "      <th></th>\n",
       "    </tr>\n",
       "  </thead>\n",
       "  <tbody>\n",
       "    <tr>\n",
       "      <th>40-60</th>\n",
       "      <td>7103985</td>\n",
       "      <td>1232207</td>\n",
       "      <td>2399750</td>\n",
       "    </tr>\n",
       "    <tr>\n",
       "      <th>over 60</th>\n",
       "      <td>7086494</td>\n",
       "      <td>1209444</td>\n",
       "      <td>2364134</td>\n",
       "    </tr>\n",
       "    <tr>\n",
       "      <th>under 40</th>\n",
       "      <td>7448709</td>\n",
       "      <td>1272960</td>\n",
       "      <td>2523585</td>\n",
       "    </tr>\n",
       "  </tbody>\n",
       "</table>\n",
       "</div>"
      ],
      "text/plain": [
       "order_frequency_flag  Frequent customer  Non-frequent customer  \\\n",
       "age_groups                                                       \n",
       "40-60                           7103985                1232207   \n",
       "over 60                         7086494                1209444   \n",
       "under 40                        7448709                1272960   \n",
       "\n",
       "order_frequency_flag  Regular customer  \n",
       "age_groups                              \n",
       "40-60                          2399750  \n",
       "over 60                        2364134  \n",
       "under 40                       2523585  "
      ]
     },
     "execution_count": 115,
     "metadata": {},
     "output_type": "execute_result"
    }
   ],
   "source": [
    "crosstab_age_prior_order"
   ]
  },
  {
   "cell_type": "code",
   "execution_count": 116,
   "id": "becd325c",
   "metadata": {},
   "outputs": [
    {
     "data": {
      "text/plain": [
       "<AxesSubplot:xlabel='age_groups'>"
      ]
     },
     "execution_count": 116,
     "metadata": {},
     "output_type": "execute_result"
    },
    {
     "data": {
      "image/png": "[encoded data removed]",
      "text/plain": [
       "<Figure size 576x396 with 1 Axes>"
      ]
     },
     "metadata": {},
     "output_type": "display_data"
    }
   ],
   "source": [
    "crosstab_age_prior_order.plot.bar()"
   ]
  },
  {
   "cell_type": "code",
   "execution_count": 117,
   "id": "77c85f31",
   "metadata": {},
   "outputs": [
    {
     "data": {
      "text/html": [
       "<div>\n",
       "<style scoped>\n",
       "    .dataframe tbody tr th:only-of-type {\n",
       "        vertical-align: middle;\n",
       "    }\n",
       "\n",
       "    .dataframe tbody tr th {\n",
       "        vertical-align: top;\n",
       "    }\n",
       "\n",
       "    .dataframe thead th {\n",
       "        text-align: right;\n",
       "    }\n",
       "</style>\n",
       "<table border=\"1\" class=\"dataframe\">\n",
       "  <thead>\n",
       "    <tr style=\"text-align: right;\">\n",
       "      <th>spending_flag</th>\n",
       "      <th>high spender</th>\n",
       "      <th>low spender</th>\n",
       "    </tr>\n",
       "    <tr>\n",
       "      <th>age_groups</th>\n",
       "      <th></th>\n",
       "      <th></th>\n",
       "    </tr>\n",
       "  </thead>\n",
       "  <tbody>\n",
       "    <tr>\n",
       "      <th>40-60</th>\n",
       "      <td>216424</td>\n",
       "      <td>10519518</td>\n",
       "    </tr>\n",
       "    <tr>\n",
       "      <th>over 60</th>\n",
       "      <td>210465</td>\n",
       "      <td>10449607</td>\n",
       "    </tr>\n",
       "    <tr>\n",
       "      <th>under 40</th>\n",
       "      <td>213146</td>\n",
       "      <td>11032108</td>\n",
       "    </tr>\n",
       "  </tbody>\n",
       "</table>\n",
       "</div>"
      ],
      "text/plain": [
       "spending_flag  high spender  low spender\n",
       "age_groups                              \n",
       "40-60                216424     10519518\n",
       "over 60              210465     10449607\n",
       "under 40             213146     11032108"
      ]
     },
     "execution_count": 117,
     "metadata": {},
     "output_type": "execute_result"
    }
   ],
   "source": [
    "crosstab_age_prices = pd.crosstab(df['age_groups'], df['spending_flag'])\n",
    "crosstab_age_prices   "
   ]
  },
  {
   "cell_type": "code",
   "execution_count": 118,
   "id": "e3004877",
   "metadata": {},
   "outputs": [
    {
     "data": {
      "text/plain": [
       "<AxesSubplot:xlabel='age_groups'>"
      ]
     },
     "execution_count": 118,
     "metadata": {},
     "output_type": "execute_result"
    },
    {
     "data": {
      "image/png": "[encoded data removed]",
      "text/plain": [
       "<Figure size 576x396 with 1 Axes>"
      ]
     },
     "metadata": {},
     "output_type": "display_data"
    }
   ],
   "source": [
    "crosstab_age_prices.plot.bar()"
   ]
  },
  {
   "cell_type": "code",
   "execution_count": 46,
   "id": "86e0c299",
   "metadata": {},
   "outputs": [
    {
     "data": {
      "text/html": [
       "<div>\n",
       "<style scoped>\n",
       "    .dataframe tbody tr th:only-of-type {\n",
       "        vertical-align: middle;\n",
       "    }\n",
       "\n",
       "    .dataframe tbody tr th {\n",
       "        vertical-align: top;\n",
       "    }\n",
       "\n",
       "    .dataframe thead th {\n",
       "        text-align: right;\n",
       "    }\n",
       "</style>\n",
       "<table border=\"1\" class=\"dataframe\">\n",
       "  <thead>\n",
       "    <tr style=\"text-align: right;\">\n",
       "      <th>reordered</th>\n",
       "      <th>0.0</th>\n",
       "      <th>1.0</th>\n",
       "    </tr>\n",
       "    <tr>\n",
       "      <th>age_groups</th>\n",
       "      <th></th>\n",
       "      <th></th>\n",
       "    </tr>\n",
       "  </thead>\n",
       "  <tbody>\n",
       "    <tr>\n",
       "      <th>40-60</th>\n",
       "      <td>4383317</td>\n",
       "      <td>6284760</td>\n",
       "    </tr>\n",
       "    <tr>\n",
       "      <th>over 60</th>\n",
       "      <td>4348756</td>\n",
       "      <td>6243738</td>\n",
       "    </tr>\n",
       "    <tr>\n",
       "      <th>under 40</th>\n",
       "      <td>4576177</td>\n",
       "      <td>6598311</td>\n",
       "    </tr>\n",
       "  </tbody>\n",
       "</table>\n",
       "</div>"
      ],
      "text/plain": [
       "reordered       0.0      1.0\n",
       "age_groups                  \n",
       "40-60       4383317  6284760\n",
       "over 60     4348756  6243738\n",
       "under 40    4576177  6598311"
      ]
     },
     "execution_count": 46,
     "metadata": {},
     "output_type": "execute_result"
    }
   ],
   "source": [
    "crosstab_age_reordered = pd.crosstab(df['age_groups'], df['reordered'])\n",
    "crosstab_age_reordered"
   ]
  },
  {
   "cell_type": "code",
   "execution_count": 70,
   "id": "408c4c2d",
   "metadata": {},
   "outputs": [
    {
     "data": {
      "text/plain": [
       "<AxesSubplot:xlabel='age_groups'>"
      ]
     },
     "execution_count": 70,
     "metadata": {},
     "output_type": "execute_result"
    },
    {
     "data": {
      "image/png": "[encoded data removed]",
      "text/plain": [
       "<Figure size 576x396 with 1 Axes>"
      ]
     },
     "metadata": {},
     "output_type": "display_data"
    }
   ],
   "source": [
    "crosstab_age_reordered.plot.bar()"
   ]
  },
  {
   "cell_type": "markdown",
   "id": "189dfd0d",
   "metadata": {},
   "source": [
    "#### What different classifications does the demographic information suggest?  Income? "
   ]
  },
  {
   "cell_type": "code",
   "execution_count": 119,
   "id": "49349725",
   "metadata": {},
   "outputs": [
    {
     "data": {
      "text/html": [
       "<div>\n",
       "<style scoped>\n",
       "    .dataframe tbody tr th:only-of-type {\n",
       "        vertical-align: middle;\n",
       "    }\n",
       "\n",
       "    .dataframe tbody tr th {\n",
       "        vertical-align: top;\n",
       "    }\n",
       "\n",
       "    .dataframe thead th {\n",
       "        text-align: right;\n",
       "    }\n",
       "</style>\n",
       "<table border=\"1\" class=\"dataframe\">\n",
       "  <thead>\n",
       "    <tr style=\"text-align: right;\">\n",
       "      <th>order_frequency_flag</th>\n",
       "      <th>Frequent customer</th>\n",
       "      <th>Non-frequent customer</th>\n",
       "      <th>Regular customer</th>\n",
       "    </tr>\n",
       "    <tr>\n",
       "      <th>income_range</th>\n",
       "      <th></th>\n",
       "      <th></th>\n",
       "      <th></th>\n",
       "    </tr>\n",
       "  </thead>\n",
       "  <tbody>\n",
       "    <tr>\n",
       "      <th>100-300k</th>\n",
       "      <td>9890819</td>\n",
       "      <td>1625733</td>\n",
       "      <td>3296395</td>\n",
       "    </tr>\n",
       "    <tr>\n",
       "      <th>over 300k</th>\n",
       "      <td>72818</td>\n",
       "      <td>7634</td>\n",
       "      <td>21604</td>\n",
       "    </tr>\n",
       "    <tr>\n",
       "      <th>under 100k</th>\n",
       "      <td>11675551</td>\n",
       "      <td>2081244</td>\n",
       "      <td>3969470</td>\n",
       "    </tr>\n",
       "  </tbody>\n",
       "</table>\n",
       "</div>"
      ],
      "text/plain": [
       "order_frequency_flag  Frequent customer  Non-frequent customer  \\\n",
       "income_range                                                     \n",
       "100-300k                        9890819                1625733   \n",
       "over 300k                         72818                   7634   \n",
       "under 100k                     11675551                2081244   \n",
       "\n",
       "order_frequency_flag  Regular customer  \n",
       "income_range                            \n",
       "100-300k                       3296395  \n",
       "over 300k                        21604  \n",
       "under 100k                     3969470  "
      ]
     },
     "execution_count": 119,
     "metadata": {},
     "output_type": "execute_result"
    }
   ],
   "source": [
    "crosstab_income_prior_order = pd.crosstab(df['income_range'], df['order_frequency_flag'])\n",
    "crosstab_income_prior_order   "
   ]
  },
  {
   "cell_type": "code",
   "execution_count": 120,
   "id": "9bd316e9",
   "metadata": {},
   "outputs": [
    {
     "data": {
      "text/plain": [
       "<AxesSubplot:xlabel='income_range'>"
      ]
     },
     "execution_count": 120,
     "metadata": {},
     "output_type": "execute_result"
    },
    {
     "data": {
      "image/png": "[encoded data removed]",
      "text/plain": [
       "<Figure size 576x396 with 1 Axes>"
      ]
     },
     "metadata": {},
     "output_type": "display_data"
    }
   ],
   "source": [
    "crosstab_income_prior_order.sort_index().plot.bar()"
   ]
  },
  {
   "cell_type": "code",
   "execution_count": 121,
   "id": "c6c3aff4",
   "metadata": {},
   "outputs": [
    {
     "data": {
      "text/html": [
       "<div>\n",
       "<style scoped>\n",
       "    .dataframe tbody tr th:only-of-type {\n",
       "        vertical-align: middle;\n",
       "    }\n",
       "\n",
       "    .dataframe tbody tr th {\n",
       "        vertical-align: top;\n",
       "    }\n",
       "\n",
       "    .dataframe thead th {\n",
       "        text-align: right;\n",
       "    }\n",
       "</style>\n",
       "<table border=\"1\" class=\"dataframe\">\n",
       "  <thead>\n",
       "    <tr style=\"text-align: right;\">\n",
       "      <th>spending_flag</th>\n",
       "      <th>high spender</th>\n",
       "      <th>low spender</th>\n",
       "    </tr>\n",
       "    <tr>\n",
       "      <th>income_range</th>\n",
       "      <th></th>\n",
       "      <th></th>\n",
       "    </tr>\n",
       "  </thead>\n",
       "  <tbody>\n",
       "    <tr>\n",
       "      <th>100-300k</th>\n",
       "      <td>444722</td>\n",
       "      <td>14368225</td>\n",
       "    </tr>\n",
       "    <tr>\n",
       "      <th>over 300k</th>\n",
       "      <td>102056</td>\n",
       "      <td>0</td>\n",
       "    </tr>\n",
       "    <tr>\n",
       "      <th>under 100k</th>\n",
       "      <td>93257</td>\n",
       "      <td>17633008</td>\n",
       "    </tr>\n",
       "  </tbody>\n",
       "</table>\n",
       "</div>"
      ],
      "text/plain": [
       "spending_flag  high spender  low spender\n",
       "income_range                            \n",
       "100-300k             444722     14368225\n",
       "over 300k            102056            0\n",
       "under 100k            93257     17633008"
      ]
     },
     "execution_count": 121,
     "metadata": {},
     "output_type": "execute_result"
    }
   ],
   "source": [
    "crosstab_income_prices = pd.crosstab(df['income_range'], df['spending_flag'])\n",
    "crosstab_income_prices    "
   ]
  },
  {
   "cell_type": "code",
   "execution_count": 122,
   "id": "9b14f004",
   "metadata": {},
   "outputs": [
    {
     "data": {
      "text/plain": [
       "<AxesSubplot:xlabel='income_range'>"
      ]
     },
     "execution_count": 122,
     "metadata": {},
     "output_type": "execute_result"
    },
    {
     "data": {
      "image/png": "[encoded data removed]",
      "text/plain": [
       "<Figure size 576x396 with 1 Axes>"
      ]
     },
     "metadata": {},
     "output_type": "display_data"
    }
   ],
   "source": [
    "crosstab_income_prices.plot.bar()"
   ]
  },
  {
   "cell_type": "code",
   "execution_count": 50,
   "id": "f698a4bb",
   "metadata": {},
   "outputs": [
    {
     "data": {
      "text/html": [
       "<div>\n",
       "<style scoped>\n",
       "    .dataframe tbody tr th:only-of-type {\n",
       "        vertical-align: middle;\n",
       "    }\n",
       "\n",
       "    .dataframe tbody tr th {\n",
       "        vertical-align: top;\n",
       "    }\n",
       "\n",
       "    .dataframe thead th {\n",
       "        text-align: right;\n",
       "    }\n",
       "</style>\n",
       "<table border=\"1\" class=\"dataframe\">\n",
       "  <thead>\n",
       "    <tr style=\"text-align: right;\">\n",
       "      <th>reordered</th>\n",
       "      <th>0.0</th>\n",
       "      <th>1.0</th>\n",
       "    </tr>\n",
       "    <tr>\n",
       "      <th>income_range</th>\n",
       "      <th></th>\n",
       "      <th></th>\n",
       "    </tr>\n",
       "  </thead>\n",
       "  <tbody>\n",
       "    <tr>\n",
       "      <th>100-300k</th>\n",
       "      <td>6099428</td>\n",
       "      <td>8626643</td>\n",
       "    </tr>\n",
       "    <tr>\n",
       "      <th>over 300k</th>\n",
       "      <td>42517</td>\n",
       "      <td>59157</td>\n",
       "    </tr>\n",
       "    <tr>\n",
       "      <th>under 100k</th>\n",
       "      <td>7166305</td>\n",
       "      <td>10441009</td>\n",
       "    </tr>\n",
       "  </tbody>\n",
       "</table>\n",
       "</div>"
      ],
      "text/plain": [
       "reordered         0.0       1.0\n",
       "income_range                   \n",
       "100-300k      6099428   8626643\n",
       "over 300k       42517     59157\n",
       "under 100k    7166305  10441009"
      ]
     },
     "execution_count": 50,
     "metadata": {},
     "output_type": "execute_result"
    }
   ],
   "source": [
    "crosstab_income_reordered = pd.crosstab(df['income_range'], df['reordered'])\n",
    "crosstab_income_reordered"
   ]
  },
  {
   "cell_type": "code",
   "execution_count": 86,
   "id": "a95184df",
   "metadata": {},
   "outputs": [
    {
     "data": {
      "text/plain": [
       "<AxesSubplot:xlabel='income_range'>"
      ]
     },
     "execution_count": 86,
     "metadata": {},
     "output_type": "execute_result"
    },
    {
     "data": {
      "image/png": "[encoded data removed]",
      "text/plain": [
       "<Figure size 576x396 with 1 Axes>"
      ]
     },
     "metadata": {},
     "output_type": "display_data"
    }
   ],
   "source": [
    "crosstab_income_reordered.plot.bar()"
   ]
  },
  {
   "cell_type": "markdown",
   "id": "6760e867",
   "metadata": {},
   "source": [
    "#### What different classifications does the demographic information suggest?  Certain types of goods?"
   ]
  },
  {
   "cell_type": "code",
   "execution_count": 125,
   "id": "1bf4de9c",
   "metadata": {},
   "outputs": [
    {
     "data": {
      "text/html": [
       "<div>\n",
       "<style scoped>\n",
       "    .dataframe tbody tr th:only-of-type {\n",
       "        vertical-align: middle;\n",
       "    }\n",
       "\n",
       "    .dataframe tbody tr th {\n",
       "        vertical-align: top;\n",
       "    }\n",
       "\n",
       "    .dataframe thead th {\n",
       "        text-align: right;\n",
       "    }\n",
       "</style>\n",
       "<table border=\"1\" class=\"dataframe\">\n",
       "  <thead>\n",
       "    <tr style=\"text-align: right;\">\n",
       "      <th>order_frequency_flag</th>\n",
       "      <th>Frequent customer</th>\n",
       "      <th>Non-frequent customer</th>\n",
       "      <th>Regular customer</th>\n",
       "    </tr>\n",
       "    <tr>\n",
       "      <th>department</th>\n",
       "      <th></th>\n",
       "      <th></th>\n",
       "      <th></th>\n",
       "    </tr>\n",
       "  </thead>\n",
       "  <tbody>\n",
       "    <tr>\n",
       "      <th>alcohol</th>\n",
       "      <td>102905</td>\n",
       "      <td>17953</td>\n",
       "      <td>32838</td>\n",
       "    </tr>\n",
       "    <tr>\n",
       "      <th>babies</th>\n",
       "      <td>319451</td>\n",
       "      <td>32044</td>\n",
       "      <td>72307</td>\n",
       "    </tr>\n",
       "    <tr>\n",
       "      <th>bakery</th>\n",
       "      <td>781888</td>\n",
       "      <td>130089</td>\n",
       "      <td>260451</td>\n",
       "    </tr>\n",
       "    <tr>\n",
       "      <th>beverages</th>\n",
       "      <td>1782602</td>\n",
       "      <td>305293</td>\n",
       "      <td>600228</td>\n",
       "    </tr>\n",
       "    <tr>\n",
       "      <th>breakfast</th>\n",
       "      <td>463165</td>\n",
       "      <td>80874</td>\n",
       "      <td>158994</td>\n",
       "    </tr>\n",
       "    <tr>\n",
       "      <th>bulk</th>\n",
       "      <td>25333</td>\n",
       "      <td>3083</td>\n",
       "      <td>6157</td>\n",
       "    </tr>\n",
       "    <tr>\n",
       "      <th>canned goods</th>\n",
       "      <td>671345</td>\n",
       "      <td>138093</td>\n",
       "      <td>258620</td>\n",
       "    </tr>\n",
       "    <tr>\n",
       "      <th>dairy eggs</th>\n",
       "      <td>3672996</td>\n",
       "      <td>568698</td>\n",
       "      <td>1157053</td>\n",
       "    </tr>\n",
       "    <tr>\n",
       "      <th>deli</th>\n",
       "      <td>684951</td>\n",
       "      <td>123319</td>\n",
       "      <td>242979</td>\n",
       "    </tr>\n",
       "    <tr>\n",
       "      <th>dry goods pasta</th>\n",
       "      <td>543529</td>\n",
       "      <td>111949</td>\n",
       "      <td>211149</td>\n",
       "    </tr>\n",
       "    <tr>\n",
       "      <th>frozen</th>\n",
       "      <td>1392988</td>\n",
       "      <td>288174</td>\n",
       "      <td>553581</td>\n",
       "    </tr>\n",
       "    <tr>\n",
       "      <th>household</th>\n",
       "      <td>445112</td>\n",
       "      <td>106929</td>\n",
       "      <td>186625</td>\n",
       "    </tr>\n",
       "    <tr>\n",
       "      <th>international</th>\n",
       "      <td>173710</td>\n",
       "      <td>33170</td>\n",
       "      <td>62373</td>\n",
       "    </tr>\n",
       "    <tr>\n",
       "      <th>meat seafood</th>\n",
       "      <td>456967</td>\n",
       "      <td>84911</td>\n",
       "      <td>167049</td>\n",
       "    </tr>\n",
       "    <tr>\n",
       "      <th>missing</th>\n",
       "      <td>50077</td>\n",
       "      <td>5517</td>\n",
       "      <td>13551</td>\n",
       "    </tr>\n",
       "    <tr>\n",
       "      <th>other</th>\n",
       "      <td>24041</td>\n",
       "      <td>4214</td>\n",
       "      <td>8036</td>\n",
       "    </tr>\n",
       "    <tr>\n",
       "      <th>pantry</th>\n",
       "      <td>1214869</td>\n",
       "      <td>231090</td>\n",
       "      <td>429410</td>\n",
       "    </tr>\n",
       "    <tr>\n",
       "      <th>personal care</th>\n",
       "      <td>279437</td>\n",
       "      <td>59279</td>\n",
       "      <td>108856</td>\n",
       "    </tr>\n",
       "    <tr>\n",
       "      <th>pets</th>\n",
       "      <td>59521</td>\n",
       "      <td>12005</td>\n",
       "      <td>26190</td>\n",
       "    </tr>\n",
       "    <tr>\n",
       "      <th>produce</th>\n",
       "      <td>6457381</td>\n",
       "      <td>995663</td>\n",
       "      <td>2026247</td>\n",
       "    </tr>\n",
       "    <tr>\n",
       "      <th>snacks</th>\n",
       "      <td>1930963</td>\n",
       "      <td>318503</td>\n",
       "      <td>638084</td>\n",
       "    </tr>\n",
       "  </tbody>\n",
       "</table>\n",
       "</div>"
      ],
      "text/plain": [
       "order_frequency_flag  Frequent customer  Non-frequent customer  \\\n",
       "department                                                       \n",
       "alcohol                          102905                  17953   \n",
       "babies                           319451                  32044   \n",
       "bakery                           781888                 130089   \n",
       "beverages                       1782602                 305293   \n",
       "breakfast                        463165                  80874   \n",
       "bulk                              25333                   3083   \n",
       "canned goods                     671345                 138093   \n",
       "dairy eggs                      3672996                 568698   \n",
       "deli                             684951                 123319   \n",
       "dry goods pasta                  543529                 111949   \n",
       "frozen                          1392988                 288174   \n",
       "household                        445112                 106929   \n",
       "international                    173710                  33170   \n",
       "meat seafood                     456967                  84911   \n",
       "missing                           50077                   5517   \n",
       "other                             24041                   4214   \n",
       "pantry                          1214869                 231090   \n",
       "personal care                    279437                  59279   \n",
       "pets                              59521                  12005   \n",
       "produce                         6457381                 995663   \n",
       "snacks                          1930963                 318503   \n",
       "\n",
       "order_frequency_flag  Regular customer  \n",
       "department                              \n",
       "alcohol                          32838  \n",
       "babies                           72307  \n",
       "bakery                          260451  \n",
       "beverages                       600228  \n",
       "breakfast                       158994  \n",
       "bulk                              6157  \n",
       "canned goods                    258620  \n",
       "dairy eggs                     1157053  \n",
       "deli                            242979  \n",
       "dry goods pasta                 211149  \n",
       "frozen                          553581  \n",
       "household                       186625  \n",
       "international                    62373  \n",
       "meat seafood                    167049  \n",
       "missing                          13551  \n",
       "other                             8036  \n",
       "pantry                          429410  \n",
       "personal care                   108856  \n",
       "pets                             26190  \n",
       "produce                        2026247  \n",
       "snacks                          638084  "
      ]
     },
     "execution_count": 125,
     "metadata": {},
     "output_type": "execute_result"
    }
   ],
   "source": [
    "crosstab_department_prior_order = pd.crosstab(df['department'], df['order_frequency_flag'])\n",
    "crosstab_department_prior_order    "
   ]
  },
  {
   "cell_type": "code",
   "execution_count": 126,
   "id": "df4e746b",
   "metadata": {},
   "outputs": [
    {
     "data": {
      "text/plain": [
       "<AxesSubplot:xlabel='department'>"
      ]
     },
     "execution_count": 126,
     "metadata": {},
     "output_type": "execute_result"
    },
    {
     "data": {
      "image/png": "[encoded data removed]",
      "text/plain": [
       "<Figure size 576x396 with 1 Axes>"
      ]
     },
     "metadata": {},
     "output_type": "display_data"
    }
   ],
   "source": [
    "crosstab_department_prior_order.plot.bar()"
   ]
  },
  {
   "cell_type": "code",
   "execution_count": 100,
   "id": "b5b34667",
   "metadata": {},
   "outputs": [
    {
     "data": {
      "text/html": [
       "<div>\n",
       "<style scoped>\n",
       "    .dataframe tbody tr th:only-of-type {\n",
       "        vertical-align: middle;\n",
       "    }\n",
       "\n",
       "    .dataframe tbody tr th {\n",
       "        vertical-align: top;\n",
       "    }\n",
       "\n",
       "    .dataframe thead th {\n",
       "        text-align: right;\n",
       "    }\n",
       "</style>\n",
       "<table border=\"1\" class=\"dataframe\">\n",
       "  <thead>\n",
       "    <tr style=\"text-align: right;\">\n",
       "      <th>spending_flag</th>\n",
       "      <th>high spender</th>\n",
       "      <th>low spender</th>\n",
       "    </tr>\n",
       "    <tr>\n",
       "      <th>department</th>\n",
       "      <th></th>\n",
       "      <th></th>\n",
       "    </tr>\n",
       "  </thead>\n",
       "  <tbody>\n",
       "    <tr>\n",
       "      <th>alcohol</th>\n",
       "      <td>13247</td>\n",
       "      <td>140449</td>\n",
       "    </tr>\n",
       "    <tr>\n",
       "      <th>babies</th>\n",
       "      <td>4693</td>\n",
       "      <td>419109</td>\n",
       "    </tr>\n",
       "    <tr>\n",
       "      <th>bakery</th>\n",
       "      <td>29557</td>\n",
       "      <td>1142871</td>\n",
       "    </tr>\n",
       "    <tr>\n",
       "      <th>beverages</th>\n",
       "      <td>61261</td>\n",
       "      <td>2626862</td>\n",
       "    </tr>\n",
       "    <tr>\n",
       "      <th>breakfast</th>\n",
       "      <td>15702</td>\n",
       "      <td>687331</td>\n",
       "    </tr>\n",
       "    <tr>\n",
       "      <th>bulk</th>\n",
       "      <td>123</td>\n",
       "      <td>34450</td>\n",
       "    </tr>\n",
       "    <tr>\n",
       "      <th>canned goods</th>\n",
       "      <td>21423</td>\n",
       "      <td>1046635</td>\n",
       "    </tr>\n",
       "    <tr>\n",
       "      <th>dairy eggs</th>\n",
       "      <td>114248</td>\n",
       "      <td>5284499</td>\n",
       "    </tr>\n",
       "    <tr>\n",
       "      <th>deli</th>\n",
       "      <td>17652</td>\n",
       "      <td>1033597</td>\n",
       "    </tr>\n",
       "    <tr>\n",
       "      <th>dry goods pasta</th>\n",
       "      <td>16788</td>\n",
       "      <td>849839</td>\n",
       "    </tr>\n",
       "    <tr>\n",
       "      <th>frozen</th>\n",
       "      <td>47891</td>\n",
       "      <td>2186852</td>\n",
       "    </tr>\n",
       "    <tr>\n",
       "      <th>household</th>\n",
       "      <td>25842</td>\n",
       "      <td>712824</td>\n",
       "    </tr>\n",
       "    <tr>\n",
       "      <th>international</th>\n",
       "      <td>4935</td>\n",
       "      <td>264318</td>\n",
       "    </tr>\n",
       "    <tr>\n",
       "      <th>meat seafood</th>\n",
       "      <td>22683</td>\n",
       "      <td>686244</td>\n",
       "    </tr>\n",
       "    <tr>\n",
       "      <th>missing</th>\n",
       "      <td>954</td>\n",
       "      <td>68191</td>\n",
       "    </tr>\n",
       "    <tr>\n",
       "      <th>other</th>\n",
       "      <td>1091</td>\n",
       "      <td>35200</td>\n",
       "    </tr>\n",
       "    <tr>\n",
       "      <th>pantry</th>\n",
       "      <td>39495</td>\n",
       "      <td>1835874</td>\n",
       "    </tr>\n",
       "    <tr>\n",
       "      <th>personal care</th>\n",
       "      <td>10209</td>\n",
       "      <td>437363</td>\n",
       "    </tr>\n",
       "    <tr>\n",
       "      <th>pets</th>\n",
       "      <td>4094</td>\n",
       "      <td>93622</td>\n",
       "    </tr>\n",
       "    <tr>\n",
       "      <th>produce</th>\n",
       "      <td>132584</td>\n",
       "      <td>9346707</td>\n",
       "    </tr>\n",
       "    <tr>\n",
       "      <th>snacks</th>\n",
       "      <td>49773</td>\n",
       "      <td>2837777</td>\n",
       "    </tr>\n",
       "  </tbody>\n",
       "</table>\n",
       "</div>"
      ],
      "text/plain": [
       "spending_flag    high spender  low spender\n",
       "department                                \n",
       "alcohol                 13247       140449\n",
       "babies                   4693       419109\n",
       "bakery                  29557      1142871\n",
       "beverages               61261      2626862\n",
       "breakfast               15702       687331\n",
       "bulk                      123        34450\n",
       "canned goods            21423      1046635\n",
       "dairy eggs             114248      5284499\n",
       "deli                    17652      1033597\n",
       "dry goods pasta         16788       849839\n",
       "frozen                  47891      2186852\n",
       "household               25842       712824\n",
       "international            4935       264318\n",
       "meat seafood            22683       686244\n",
       "missing                   954        68191\n",
       "other                    1091        35200\n",
       "pantry                  39495      1835874\n",
       "personal care           10209       437363\n",
       "pets                     4094        93622\n",
       "produce                132584      9346707\n",
       "snacks                  49773      2837777"
      ]
     },
     "execution_count": 100,
     "metadata": {},
     "output_type": "execute_result"
    }
   ],
   "source": [
    "crosstab_department_prices = pd.crosstab(df['department'], df['spending_flag'])\n",
    "crosstab_department_prices"
   ]
  },
  {
   "cell_type": "code",
   "execution_count": 102,
   "id": "1f814781",
   "metadata": {},
   "outputs": [
    {
     "data": {
      "text/plain": [
       "<AxesSubplot:xlabel='department'>"
      ]
     },
     "execution_count": 102,
     "metadata": {},
     "output_type": "execute_result"
    },
    {
     "data": {
      "image/png": "[encoded data removed]",
      "text/plain": [
       "<Figure size 576x396 with 1 Axes>"
      ]
     },
     "metadata": {},
     "output_type": "display_data"
    }
   ],
   "source": [
    "crosstab_department_prices.plot.bar()"
   ]
  },
  {
   "cell_type": "code",
   "execution_count": 55,
   "id": "7655fdd5",
   "metadata": {},
   "outputs": [
    {
     "data": {
      "text/html": [
       "<div>\n",
       "<style scoped>\n",
       "    .dataframe tbody tr th:only-of-type {\n",
       "        vertical-align: middle;\n",
       "    }\n",
       "\n",
       "    .dataframe tbody tr th {\n",
       "        vertical-align: top;\n",
       "    }\n",
       "\n",
       "    .dataframe thead th {\n",
       "        text-align: right;\n",
       "    }\n",
       "</style>\n",
       "<table border=\"1\" class=\"dataframe\">\n",
       "  <thead>\n",
       "    <tr style=\"text-align: right;\">\n",
       "      <th>reordered</th>\n",
       "      <th>0.0</th>\n",
       "      <th>1.0</th>\n",
       "    </tr>\n",
       "    <tr>\n",
       "      <th>department</th>\n",
       "      <th></th>\n",
       "      <th></th>\n",
       "    </tr>\n",
       "  </thead>\n",
       "  <tbody>\n",
       "    <tr>\n",
       "      <th>alcohol</th>\n",
       "      <td>66101</td>\n",
       "      <td>87595</td>\n",
       "    </tr>\n",
       "    <tr>\n",
       "      <th>babies</th>\n",
       "      <td>178433</td>\n",
       "      <td>245369</td>\n",
       "    </tr>\n",
       "    <tr>\n",
       "      <th>bakery</th>\n",
       "      <td>436273</td>\n",
       "      <td>736155</td>\n",
       "    </tr>\n",
       "    <tr>\n",
       "      <th>beverages</th>\n",
       "      <td>931539</td>\n",
       "      <td>1756584</td>\n",
       "    </tr>\n",
       "    <tr>\n",
       "      <th>breakfast</th>\n",
       "      <td>308948</td>\n",
       "      <td>394085</td>\n",
       "    </tr>\n",
       "    <tr>\n",
       "      <th>bulk</th>\n",
       "      <td>14623</td>\n",
       "      <td>19950</td>\n",
       "    </tr>\n",
       "    <tr>\n",
       "      <th>canned goods</th>\n",
       "      <td>579523</td>\n",
       "      <td>488535</td>\n",
       "    </tr>\n",
       "    <tr>\n",
       "      <th>dairy eggs</th>\n",
       "      <td>1783262</td>\n",
       "      <td>3615485</td>\n",
       "    </tr>\n",
       "    <tr>\n",
       "      <th>deli</th>\n",
       "      <td>412385</td>\n",
       "      <td>638864</td>\n",
       "    </tr>\n",
       "    <tr>\n",
       "      <th>dry goods pasta</th>\n",
       "      <td>467046</td>\n",
       "      <td>399581</td>\n",
       "    </tr>\n",
       "    <tr>\n",
       "      <th>frozen</th>\n",
       "      <td>1024039</td>\n",
       "      <td>1210704</td>\n",
       "    </tr>\n",
       "    <tr>\n",
       "      <th>household</th>\n",
       "      <td>441591</td>\n",
       "      <td>297075</td>\n",
       "    </tr>\n",
       "    <tr>\n",
       "      <th>international</th>\n",
       "      <td>169837</td>\n",
       "      <td>99416</td>\n",
       "    </tr>\n",
       "    <tr>\n",
       "      <th>meat seafood</th>\n",
       "      <td>306485</td>\n",
       "      <td>402442</td>\n",
       "    </tr>\n",
       "    <tr>\n",
       "      <th>missing</th>\n",
       "      <td>41774</td>\n",
       "      <td>27371</td>\n",
       "    </tr>\n",
       "    <tr>\n",
       "      <th>other</th>\n",
       "      <td>21485</td>\n",
       "      <td>14806</td>\n",
       "    </tr>\n",
       "    <tr>\n",
       "      <th>pantry</th>\n",
       "      <td>1225138</td>\n",
       "      <td>650231</td>\n",
       "    </tr>\n",
       "    <tr>\n",
       "      <th>personal care</th>\n",
       "      <td>303769</td>\n",
       "      <td>143803</td>\n",
       "    </tr>\n",
       "    <tr>\n",
       "      <th>pets</th>\n",
       "      <td>38957</td>\n",
       "      <td>58759</td>\n",
       "    </tr>\n",
       "    <tr>\n",
       "      <th>produce</th>\n",
       "      <td>3318581</td>\n",
       "      <td>6160710</td>\n",
       "    </tr>\n",
       "    <tr>\n",
       "      <th>snacks</th>\n",
       "      <td>1229577</td>\n",
       "      <td>1657973</td>\n",
       "    </tr>\n",
       "  </tbody>\n",
       "</table>\n",
       "</div>"
      ],
      "text/plain": [
       "reordered            0.0      1.0\n",
       "department                       \n",
       "alcohol            66101    87595\n",
       "babies            178433   245369\n",
       "bakery            436273   736155\n",
       "beverages         931539  1756584\n",
       "breakfast         308948   394085\n",
       "bulk               14623    19950\n",
       "canned goods      579523   488535\n",
       "dairy eggs       1783262  3615485\n",
       "deli              412385   638864\n",
       "dry goods pasta   467046   399581\n",
       "frozen           1024039  1210704\n",
       "household         441591   297075\n",
       "international     169837    99416\n",
       "meat seafood      306485   402442\n",
       "missing            41774    27371\n",
       "other              21485    14806\n",
       "pantry           1225138   650231\n",
       "personal care     303769   143803\n",
       "pets               38957    58759\n",
       "produce          3318581  6160710\n",
       "snacks           1229577  1657973"
      ]
     },
     "execution_count": 55,
     "metadata": {},
     "output_type": "execute_result"
    }
   ],
   "source": [
    "crosstab_department_reordered = pd.crosstab(df['department'], df['reordered'])\n",
    "crosstab_department_reordered"
   ]
  },
  {
   "cell_type": "code",
   "execution_count": 103,
   "id": "a7195e63",
   "metadata": {},
   "outputs": [
    {
     "data": {
      "text/plain": [
       "<AxesSubplot:xlabel='department'>"
      ]
     },
     "execution_count": 103,
     "metadata": {},
     "output_type": "execute_result"
    },
    {
     "data": {
      "image/png": "[encoded data removed]",
      "text/plain": [
       "<Figure size 576x396 with 1 Axes>"
      ]
     },
     "metadata": {},
     "output_type": "display_data"
    }
   ],
   "source": [
    "crosstab_department_reordered.plot.bar()"
   ]
  },
  {
   "cell_type": "markdown",
   "id": "ac8ebaf7",
   "metadata": {},
   "source": [
    "#### What different classifications does the demographic information suggest?  Family status?"
   ]
  },
  {
   "cell_type": "code",
   "execution_count": 104,
   "id": "36815c6e",
   "metadata": {},
   "outputs": [
    {
     "data": {
      "text/html": [
       "<div>\n",
       "<style scoped>\n",
       "    .dataframe tbody tr th:only-of-type {\n",
       "        vertical-align: middle;\n",
       "    }\n",
       "\n",
       "    .dataframe tbody tr th {\n",
       "        vertical-align: top;\n",
       "    }\n",
       "\n",
       "    .dataframe thead th {\n",
       "        text-align: right;\n",
       "    }\n",
       "</style>\n",
       "<table border=\"1\" class=\"dataframe\">\n",
       "  <thead>\n",
       "    <tr style=\"text-align: right;\">\n",
       "      <th>order_frequency_flag</th>\n",
       "      <th>Frequent customer</th>\n",
       "      <th>Non-frequent customer</th>\n",
       "      <th>Regular customer</th>\n",
       "    </tr>\n",
       "    <tr>\n",
       "      <th>fam_status</th>\n",
       "      <th></th>\n",
       "      <th></th>\n",
       "      <th></th>\n",
       "    </tr>\n",
       "  </thead>\n",
       "  <tbody>\n",
       "    <tr>\n",
       "      <th>divorced/widowed</th>\n",
       "      <td>1857491</td>\n",
       "      <td>314452</td>\n",
       "      <td>620157</td>\n",
       "    </tr>\n",
       "    <tr>\n",
       "      <th>living with parents and siblings</th>\n",
       "      <td>1051057</td>\n",
       "      <td>178690</td>\n",
       "      <td>332169</td>\n",
       "    </tr>\n",
       "    <tr>\n",
       "      <th>married</th>\n",
       "      <td>15194409</td>\n",
       "      <td>2618022</td>\n",
       "      <td>5109974</td>\n",
       "    </tr>\n",
       "    <tr>\n",
       "      <th>single</th>\n",
       "      <td>3536231</td>\n",
       "      <td>603447</td>\n",
       "      <td>1225169</td>\n",
       "    </tr>\n",
       "  </tbody>\n",
       "</table>\n",
       "</div>"
      ],
      "text/plain": [
       "order_frequency_flag              Frequent customer  Non-frequent customer  \\\n",
       "fam_status                                                                   \n",
       "divorced/widowed                            1857491                 314452   \n",
       "living with parents and siblings            1051057                 178690   \n",
       "married                                    15194409                2618022   \n",
       "single                                      3536231                 603447   \n",
       "\n",
       "order_frequency_flag              Regular customer  \n",
       "fam_status                                          \n",
       "divorced/widowed                            620157  \n",
       "living with parents and siblings            332169  \n",
       "married                                    5109974  \n",
       "single                                     1225169  "
      ]
     },
     "execution_count": 104,
     "metadata": {},
     "output_type": "execute_result"
    }
   ],
   "source": [
    "crosstab_fam_status_prior_order = pd.crosstab(df['fam_status'], df['order_frequency_flag'])\n",
    "crosstab_fam_status_prior_order"
   ]
  },
  {
   "cell_type": "code",
   "execution_count": 105,
   "id": "58642bcb",
   "metadata": {},
   "outputs": [
    {
     "data": {
      "text/plain": [
       "<AxesSubplot:xlabel='fam_status'>"
      ]
     },
     "execution_count": 105,
     "metadata": {},
     "output_type": "execute_result"
    },
    {
     "data": {
      "image/png": "[encoded data removed]",
      "text/plain": [
       "<Figure size 576x396 with 1 Axes>"
      ]
     },
     "metadata": {},
     "output_type": "display_data"
    }
   ],
   "source": [
    "crosstab_fam_status_prior_order.plot.bar()"
   ]
  },
  {
   "cell_type": "code",
   "execution_count": 106,
   "id": "8e839684",
   "metadata": {},
   "outputs": [
    {
     "data": {
      "text/html": [
       "<div>\n",
       "<style scoped>\n",
       "    .dataframe tbody tr th:only-of-type {\n",
       "        vertical-align: middle;\n",
       "    }\n",
       "\n",
       "    .dataframe tbody tr th {\n",
       "        vertical-align: top;\n",
       "    }\n",
       "\n",
       "    .dataframe thead th {\n",
       "        text-align: right;\n",
       "    }\n",
       "</style>\n",
       "<table border=\"1\" class=\"dataframe\">\n",
       "  <thead>\n",
       "    <tr style=\"text-align: right;\">\n",
       "      <th>order_frequency_flag</th>\n",
       "      <th>Frequent customer</th>\n",
       "      <th>Non-frequent customer</th>\n",
       "      <th>Regular customer</th>\n",
       "    </tr>\n",
       "    <tr>\n",
       "      <th>parents</th>\n",
       "      <th></th>\n",
       "      <th></th>\n",
       "      <th></th>\n",
       "    </tr>\n",
       "  </thead>\n",
       "  <tbody>\n",
       "    <tr>\n",
       "      <th>Not Parent</th>\n",
       "      <td>5393722</td>\n",
       "      <td>917899</td>\n",
       "      <td>1845326</td>\n",
       "    </tr>\n",
       "    <tr>\n",
       "      <th>Parent</th>\n",
       "      <td>16245466</td>\n",
       "      <td>2796712</td>\n",
       "      <td>5442143</td>\n",
       "    </tr>\n",
       "  </tbody>\n",
       "</table>\n",
       "</div>"
      ],
      "text/plain": [
       "order_frequency_flag  Frequent customer  Non-frequent customer  \\\n",
       "parents                                                          \n",
       "Not Parent                      5393722                 917899   \n",
       "Parent                         16245466                2796712   \n",
       "\n",
       "order_frequency_flag  Regular customer  \n",
       "parents                                 \n",
       "Not Parent                     1845326  \n",
       "Parent                         5442143  "
      ]
     },
     "execution_count": 106,
     "metadata": {},
     "output_type": "execute_result"
    }
   ],
   "source": [
    "crosstab_parents_prior_order = pd.crosstab(df['parents'], df['order_frequency_flag'])\n",
    "crosstab_parents_prior_order"
   ]
  },
  {
   "cell_type": "code",
   "execution_count": 107,
   "id": "9e8e873c",
   "metadata": {},
   "outputs": [
    {
     "data": {
      "text/plain": [
       "<AxesSubplot:xlabel='parents'>"
      ]
     },
     "execution_count": 107,
     "metadata": {},
     "output_type": "execute_result"
    },
    {
     "data": {
      "image/png": "[encoded data removed]",
      "text/plain": [
       "<Figure size 576x396 with 1 Axes>"
      ]
     },
     "metadata": {},
     "output_type": "display_data"
    }
   ],
   "source": [
    "crosstab_parents_prior_order.plot.bar()"
   ]
  },
  {
   "cell_type": "code",
   "execution_count": 108,
   "id": "d02f481b",
   "metadata": {},
   "outputs": [
    {
     "data": {
      "text/html": [
       "<div>\n",
       "<style scoped>\n",
       "    .dataframe tbody tr th:only-of-type {\n",
       "        vertical-align: middle;\n",
       "    }\n",
       "\n",
       "    .dataframe tbody tr th {\n",
       "        vertical-align: top;\n",
       "    }\n",
       "\n",
       "    .dataframe thead th {\n",
       "        text-align: right;\n",
       "    }\n",
       "</style>\n",
       "<table border=\"1\" class=\"dataframe\">\n",
       "  <thead>\n",
       "    <tr style=\"text-align: right;\">\n",
       "      <th>spending_flag</th>\n",
       "      <th>high spender</th>\n",
       "      <th>low spender</th>\n",
       "    </tr>\n",
       "    <tr>\n",
       "      <th>fam_status</th>\n",
       "      <th></th>\n",
       "      <th></th>\n",
       "    </tr>\n",
       "  </thead>\n",
       "  <tbody>\n",
       "    <tr>\n",
       "      <th>divorced/widowed</th>\n",
       "      <td>53193</td>\n",
       "      <td>2738907</td>\n",
       "    </tr>\n",
       "    <tr>\n",
       "      <th>living with parents and siblings</th>\n",
       "      <td>29658</td>\n",
       "      <td>1532258</td>\n",
       "    </tr>\n",
       "    <tr>\n",
       "      <th>married</th>\n",
       "      <td>455373</td>\n",
       "      <td>22467032</td>\n",
       "    </tr>\n",
       "    <tr>\n",
       "      <th>single</th>\n",
       "      <td>101811</td>\n",
       "      <td>5263036</td>\n",
       "    </tr>\n",
       "  </tbody>\n",
       "</table>\n",
       "</div>"
      ],
      "text/plain": [
       "spending_flag                     high spender  low spender\n",
       "fam_status                                                 \n",
       "divorced/widowed                         53193      2738907\n",
       "living with parents and siblings         29658      1532258\n",
       "married                                 455373     22467032\n",
       "single                                  101811      5263036"
      ]
     },
     "execution_count": 108,
     "metadata": {},
     "output_type": "execute_result"
    }
   ],
   "source": [
    "crosstab_fam_status_prices = pd.crosstab(df['fam_status'], df['spending_flag'])\n",
    "crosstab_fam_status_prices"
   ]
  },
  {
   "cell_type": "code",
   "execution_count": 109,
   "id": "bd5efd6e",
   "metadata": {},
   "outputs": [
    {
     "data": {
      "text/plain": [
       "<AxesSubplot:xlabel='fam_status'>"
      ]
     },
     "execution_count": 109,
     "metadata": {},
     "output_type": "execute_result"
    },
    {
     "data": {
      "image/png": "[encoded data removed]",
      "text/plain": [
       "<Figure size 576x396 with 1 Axes>"
      ]
     },
     "metadata": {},
     "output_type": "display_data"
    }
   ],
   "source": [
    "crosstab_fam_status_prices.plot.bar()"
   ]
  },
  {
   "cell_type": "code",
   "execution_count": 110,
   "id": "150895c0",
   "metadata": {},
   "outputs": [
    {
     "data": {
      "text/html": [
       "<div>\n",
       "<style scoped>\n",
       "    .dataframe tbody tr th:only-of-type {\n",
       "        vertical-align: middle;\n",
       "    }\n",
       "\n",
       "    .dataframe tbody tr th {\n",
       "        vertical-align: top;\n",
       "    }\n",
       "\n",
       "    .dataframe thead th {\n",
       "        text-align: right;\n",
       "    }\n",
       "</style>\n",
       "<table border=\"1\" class=\"dataframe\">\n",
       "  <thead>\n",
       "    <tr style=\"text-align: right;\">\n",
       "      <th>spending_flag</th>\n",
       "      <th>high spender</th>\n",
       "      <th>low spender</th>\n",
       "    </tr>\n",
       "    <tr>\n",
       "      <th>parents</th>\n",
       "      <th></th>\n",
       "      <th></th>\n",
       "    </tr>\n",
       "  </thead>\n",
       "  <tbody>\n",
       "    <tr>\n",
       "      <th>Not Parent</th>\n",
       "      <td>155004</td>\n",
       "      <td>8001943</td>\n",
       "    </tr>\n",
       "    <tr>\n",
       "      <th>Parent</th>\n",
       "      <td>485031</td>\n",
       "      <td>23999290</td>\n",
       "    </tr>\n",
       "  </tbody>\n",
       "</table>\n",
       "</div>"
      ],
      "text/plain": [
       "spending_flag  high spender  low spender\n",
       "parents                                 \n",
       "Not Parent           155004      8001943\n",
       "Parent               485031     23999290"
      ]
     },
     "execution_count": 110,
     "metadata": {},
     "output_type": "execute_result"
    }
   ],
   "source": [
    "crosstab_parents_prices = pd.crosstab(df['parents'], df['spending_flag'])\n",
    "crosstab_parents_prices"
   ]
  },
  {
   "cell_type": "code",
   "execution_count": 111,
   "id": "d9b87188",
   "metadata": {},
   "outputs": [
    {
     "data": {
      "text/plain": [
       "<AxesSubplot:xlabel='parents'>"
      ]
     },
     "execution_count": 111,
     "metadata": {},
     "output_type": "execute_result"
    },
    {
     "data": {
      "image/png": "[encoded data removed]",
      "text/plain": [
       "<Figure size 576x396 with 1 Axes>"
      ]
     },
     "metadata": {},
     "output_type": "display_data"
    }
   ],
   "source": [
    "crosstab_parents_prices.plot.bar()"
   ]
  },
  {
   "cell_type": "code",
   "execution_count": 112,
   "id": "0d7b0df9",
   "metadata": {},
   "outputs": [
    {
     "data": {
      "text/html": [
       "<div>\n",
       "<style scoped>\n",
       "    .dataframe tbody tr th:only-of-type {\n",
       "        vertical-align: middle;\n",
       "    }\n",
       "\n",
       "    .dataframe tbody tr th {\n",
       "        vertical-align: top;\n",
       "    }\n",
       "\n",
       "    .dataframe thead th {\n",
       "        text-align: right;\n",
       "    }\n",
       "</style>\n",
       "<table border=\"1\" class=\"dataframe\">\n",
       "  <thead>\n",
       "    <tr style=\"text-align: right;\">\n",
       "      <th>reordered</th>\n",
       "      <th>0.0</th>\n",
       "      <th>1.0</th>\n",
       "    </tr>\n",
       "    <tr>\n",
       "      <th>fam_status</th>\n",
       "      <th></th>\n",
       "      <th></th>\n",
       "    </tr>\n",
       "  </thead>\n",
       "  <tbody>\n",
       "    <tr>\n",
       "      <th>divorced/widowed</th>\n",
       "      <td>1136692</td>\n",
       "      <td>1637768</td>\n",
       "    </tr>\n",
       "    <tr>\n",
       "      <th>living with parents and siblings</th>\n",
       "      <td>634695</td>\n",
       "      <td>917520</td>\n",
       "    </tr>\n",
       "    <tr>\n",
       "      <th>married</th>\n",
       "      <td>9355078</td>\n",
       "      <td>13422421</td>\n",
       "    </tr>\n",
       "    <tr>\n",
       "      <th>single</th>\n",
       "      <td>2181785</td>\n",
       "      <td>3149100</td>\n",
       "    </tr>\n",
       "  </tbody>\n",
       "</table>\n",
       "</div>"
      ],
      "text/plain": [
       "reordered                             0.0       1.0\n",
       "fam_status                                         \n",
       "divorced/widowed                  1136692   1637768\n",
       "living with parents and siblings   634695    917520\n",
       "married                           9355078  13422421\n",
       "single                            2181785   3149100"
      ]
     },
     "execution_count": 112,
     "metadata": {},
     "output_type": "execute_result"
    }
   ],
   "source": [
    "crosstab_fam_status_reordered = pd.crosstab(df['fam_status'], df['reordered'])\n",
    "crosstab_fam_status_reordered"
   ]
  },
  {
   "cell_type": "code",
   "execution_count": 113,
   "id": "339a5c0c",
   "metadata": {},
   "outputs": [
    {
     "data": {
      "text/plain": [
       "<AxesSubplot:xlabel='fam_status'>"
      ]
     },
     "execution_count": 113,
     "metadata": {},
     "output_type": "execute_result"
    },
    {
     "data": {
      "image/png": "[encoded data removed]",
      "text/plain": [
       "<Figure size 576x396 with 1 Axes>"
      ]
     },
     "metadata": {},
     "output_type": "display_data"
    }
   ],
   "source": [
    "crosstab_fam_status_reordered.plot.bar()"
   ]
  },
  {
   "cell_type": "code",
   "execution_count": 129,
   "id": "6b2978db",
   "metadata": {},
   "outputs": [
    {
     "data": {
      "text/html": [
       "<div>\n",
       "<style scoped>\n",
       "    .dataframe tbody tr th:only-of-type {\n",
       "        vertical-align: middle;\n",
       "    }\n",
       "\n",
       "    .dataframe tbody tr th {\n",
       "        vertical-align: top;\n",
       "    }\n",
       "\n",
       "    .dataframe thead th {\n",
       "        text-align: right;\n",
       "    }\n",
       "</style>\n",
       "<table border=\"1\" class=\"dataframe\">\n",
       "  <thead>\n",
       "    <tr style=\"text-align: right;\">\n",
       "      <th>reordered</th>\n",
       "      <th>0.0</th>\n",
       "      <th>1.0</th>\n",
       "    </tr>\n",
       "    <tr>\n",
       "      <th>parents</th>\n",
       "      <th></th>\n",
       "      <th></th>\n",
       "    </tr>\n",
       "  </thead>\n",
       "  <tbody>\n",
       "    <tr>\n",
       "      <th>Not Parent</th>\n",
       "      <td>3318477</td>\n",
       "      <td>4786868</td>\n",
       "    </tr>\n",
       "    <tr>\n",
       "      <th>Parent</th>\n",
       "      <td>9989773</td>\n",
       "      <td>14339941</td>\n",
       "    </tr>\n",
       "  </tbody>\n",
       "</table>\n",
       "</div>"
      ],
      "text/plain": [
       "reordered       0.0       1.0\n",
       "parents                      \n",
       "Not Parent  3318477   4786868\n",
       "Parent      9989773  14339941"
      ]
     },
     "execution_count": 129,
     "metadata": {},
     "output_type": "execute_result"
    }
   ],
   "source": [
    "crosstab_parents_reorder = pd.crosstab(df['parents'], df['reordered'])\n",
    "crosstab_parents_reorder"
   ]
  },
  {
   "cell_type": "code",
   "execution_count": 130,
   "id": "1c3a0ec5",
   "metadata": {},
   "outputs": [
    {
     "data": {
      "text/plain": [
       "<AxesSubplot:xlabel='parents'>"
      ]
     },
     "execution_count": 130,
     "metadata": {},
     "output_type": "execute_result"
    },
    {
     "data": {
      "image/png": "[encoded data removed]",
      "text/plain": [
       "<Figure size 576x396 with 1 Axes>"
      ]
     },
     "metadata": {},
     "output_type": "display_data"
    }
   ],
   "source": [
    "crosstab_parents_reorder.plot.bar()"
   ]
  },
  {
   "cell_type": "code",
   "execution_count": 128,
   "id": "6ed6967b",
   "metadata": {},
   "outputs": [
    {
     "data": {
      "text/plain": [
       "<AxesSubplot:ylabel='Frequency'>"
      ]
     },
     "execution_count": 128,
     "metadata": {},
     "output_type": "execute_result"
    },
    {
     "data": {
      "image/png": "[encoded data removed]",
      "text/plain": [
       "<Figure size 576x396 with 1 Axes>"
      ]
     },
     "metadata": {},
     "output_type": "display_data"
    }
   ],
   "source": [
    "df['order_hour_of_day'].plot.hist(bins=24)"
   ]
  },
  {
   "cell_type": "code",
   "execution_count": null,
   "id": "40269aab",
   "metadata": {},
   "outputs": [],
   "source": []
  }
 ],
 "metadata": {
  "kernelspec": {
   "display_name": "Python 3 (ipykernel)",
   "language": "python",
   "name": "python3"
  },
  "language_info": {
   "codemirror_mode": {
    "name": "ipython",
    "version": 3
   },
   "file_extension": ".py",
   "mimetype": "text/x-python",
   "name": "python",
   "nbconvert_exporter": "python",
   "pygments_lexer": "ipython3",
   "version": "3.9.12"
  }
 },
 "nbformat": 4,
 "nbformat_minor": 5
}
